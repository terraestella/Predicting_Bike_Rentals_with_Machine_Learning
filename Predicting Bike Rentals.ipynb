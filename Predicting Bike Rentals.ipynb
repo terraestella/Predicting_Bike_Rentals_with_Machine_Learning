{
 "cells": [
  {
   "cell_type": "markdown",
   "metadata": {
    "collapsed": false
   },
   "source": [
    "## Predicting Bike Rentals with Machine Learning ##"
   ]
  },
  {
   "cell_type": "markdown",
   "metadata": {
    "collapsed": false
   },
   "source": [
    "This case study is about a bike rental shop. The bike rental company wants to predict the demand of bikes at any given hour of the day, so that, they can arrange for sufficient number of bike for the customers. They have shared \n",
    "the hourly rental data for last two years.\n",
    "\n",
    "#### The Task ####\n",
    "Create a machine learning model which can predict the count of bikes rented at any given hour of the day.\n",
    "\n",
    "#### The Flow ####\n",
    "The flow of the case study is as below:\n",
    "\n",
    "- Reading the data\n",
    "- Identifying the Target variable\n",
    "- Looking at the distribution of Target variable\n",
    "- Basic Data exploration\n",
    "- Rejecting useless columns\n",
    "- Visual Exploratory Data Analysis for data distribution (Histogram and Barcharts)\n",
    "- Feature Selection based on data distribution\n",
    "- Outlier treatment\n",
    "- Missing Values treatment\n",
    "- Visual correlation analysis\n",
    "- Statistical correlation analysis (Feature Selection)\n",
    "- Converting data to numeric for ML\n",
    "- Sampling and K-fold cross validation\n",
    "- Trying multiple Regression algorithms\n",
    "- Selecting the best Model\n",
    "- Deploying the best model in production"
   ]
  },
  {
   "cell_type": "markdown",
   "metadata": {
    "collapsed": false
   },
   "source": [
    "#### Data description ####\n",
    "\n",
    "- **season**: The current season (1:winter, 2:spring, 3:summer, 4:fall)\n",
    "- **yr**: year (0: 2011, 1:2012)\n",
    "- **mnth**: month ( 1 to 12)\n",
    "- **hr**: hour of the day (0 to 23)\n",
    "- **holiday**: weather day is holiday or not\n",
    "- **weekday**: day of the week\n",
    "- **workingday**: if day is neither weekend nor holiday is 1, otherwise is 0\n",
    "- **weathersit**: The Weather forecast for the day\n",
    "    - 1: Clear, Few clouds, Partly cloudy, Partly cloudy\n",
    "    - 2: Mist + Cloudy, Mist + Broken clouds, Mist + Few clouds, Mist\n",
    "    - 3: Light Snow, Light Rain + Thunderstorm + Scattered clouds, Light Rain + Scattered clouds\n",
    "    - 4: Heavy Rain + Ice Pallets + Thunderstorm + Mist, Snow + Fog\n",
    "- **temp**: Normalized temperature in Celsius.\n",
    "- **atemp**: Normalized feeling temperature in Celsius.\n",
    "- **hum**: Normalized humidity. The values are divided to 100 (max)\n",
    "- **windspeed**: Normalized wind speed. The values are divided to 67 (max)\n",
    "- **casual**: count of casual users\n",
    "- **registered**: count of registered users\n",
    "- **cnt**: count of total rental bikes including both casual and registered"
   ]
  },
  {
   "cell_type": "markdown",
   "metadata": {
    "collapsed": false
   },
   "source": [
    "#### Reading the Data ####"
   ]
  },
  {
   "cell_type": "code",
   "execution_count": 1,
   "metadata": {
    "collapsed": false,
    "jupyter": {
     "outputs_hidden": false
    }
   },
   "outputs": [
    {
     "name": "stdout",
     "output_type": "stream",
     "text": [
      "number of duplicate values deleted:  2\n"
     ]
    },
    {
     "data": {
      "text/html": [
       "<div>\n",
       "<style scoped>\n",
       "    .dataframe tbody tr th:only-of-type {\n",
       "        vertical-align: middle;\n",
       "    }\n",
       "\n",
       "    .dataframe tbody tr th {\n",
       "        vertical-align: top;\n",
       "    }\n",
       "\n",
       "    .dataframe thead th {\n",
       "        text-align: right;\n",
       "    }\n",
       "</style>\n",
       "<table border=\"1\" class=\"dataframe\">\n",
       "  <thead>\n",
       "    <tr style=\"text-align: right;\">\n",
       "      <th></th>\n",
       "      <th>season</th>\n",
       "      <th>yr</th>\n",
       "      <th>mnth</th>\n",
       "      <th>hr</th>\n",
       "      <th>holiday</th>\n",
       "      <th>weekday</th>\n",
       "      <th>workingday</th>\n",
       "      <th>weathersit</th>\n",
       "      <th>temp</th>\n",
       "      <th>atemp</th>\n",
       "      <th>hum</th>\n",
       "      <th>windspeed</th>\n",
       "      <th>registered</th>\n",
       "      <th>cnt</th>\n",
       "    </tr>\n",
       "  </thead>\n",
       "  <tbody>\n",
       "    <tr>\n",
       "      <th>0</th>\n",
       "      <td>1</td>\n",
       "      <td>0</td>\n",
       "      <td>1</td>\n",
       "      <td>0</td>\n",
       "      <td>0</td>\n",
       "      <td>6</td>\n",
       "      <td>0</td>\n",
       "      <td>1</td>\n",
       "      <td>0.24</td>\n",
       "      <td>0.2879</td>\n",
       "      <td>0.81</td>\n",
       "      <td>0.0</td>\n",
       "      <td>13</td>\n",
       "      <td>16</td>\n",
       "    </tr>\n",
       "    <tr>\n",
       "      <th>1</th>\n",
       "      <td>1</td>\n",
       "      <td>0</td>\n",
       "      <td>1</td>\n",
       "      <td>1</td>\n",
       "      <td>0</td>\n",
       "      <td>6</td>\n",
       "      <td>0</td>\n",
       "      <td>1</td>\n",
       "      <td>0.22</td>\n",
       "      <td>0.2727</td>\n",
       "      <td>0.80</td>\n",
       "      <td>0.0</td>\n",
       "      <td>32</td>\n",
       "      <td>40</td>\n",
       "    </tr>\n",
       "    <tr>\n",
       "      <th>2</th>\n",
       "      <td>1</td>\n",
       "      <td>0</td>\n",
       "      <td>1</td>\n",
       "      <td>2</td>\n",
       "      <td>0</td>\n",
       "      <td>6</td>\n",
       "      <td>0</td>\n",
       "      <td>1</td>\n",
       "      <td>0.22</td>\n",
       "      <td>0.2727</td>\n",
       "      <td>0.80</td>\n",
       "      <td>0.0</td>\n",
       "      <td>27</td>\n",
       "      <td>32</td>\n",
       "    </tr>\n",
       "    <tr>\n",
       "      <th>3</th>\n",
       "      <td>1</td>\n",
       "      <td>0</td>\n",
       "      <td>1</td>\n",
       "      <td>3</td>\n",
       "      <td>0</td>\n",
       "      <td>6</td>\n",
       "      <td>0</td>\n",
       "      <td>1</td>\n",
       "      <td>0.24</td>\n",
       "      <td>0.2879</td>\n",
       "      <td>0.75</td>\n",
       "      <td>0.0</td>\n",
       "      <td>10</td>\n",
       "      <td>13</td>\n",
       "    </tr>\n",
       "    <tr>\n",
       "      <th>4</th>\n",
       "      <td>1</td>\n",
       "      <td>0</td>\n",
       "      <td>1</td>\n",
       "      <td>4</td>\n",
       "      <td>0</td>\n",
       "      <td>6</td>\n",
       "      <td>0</td>\n",
       "      <td>1</td>\n",
       "      <td>0.24</td>\n",
       "      <td>0.2879</td>\n",
       "      <td>0.75</td>\n",
       "      <td>0.0</td>\n",
       "      <td>1</td>\n",
       "      <td>1</td>\n",
       "    </tr>\n",
       "  </tbody>\n",
       "</table>\n",
       "</div>"
      ],
      "text/plain": [
       "   season  yr  mnth  hr  holiday  weekday  workingday  weathersit  temp  \\\n",
       "0       1   0     1   0        0        6           0           1  0.24   \n",
       "1       1   0     1   1        0        6           0           1  0.22   \n",
       "2       1   0     1   2        0        6           0           1  0.22   \n",
       "3       1   0     1   3        0        6           0           1  0.24   \n",
       "4       1   0     1   4        0        6           0           1  0.24   \n",
       "\n",
       "    atemp   hum  windspeed  registered  cnt  \n",
       "0  0.2879  0.81        0.0          13   16  \n",
       "1  0.2727  0.80        0.0          32   40  \n",
       "2  0.2727  0.80        0.0          27   32  \n",
       "3  0.2879  0.75        0.0          10   13  \n",
       "4  0.2879  0.75        0.0           1    1  "
      ]
     },
     "execution_count": 1,
     "metadata": {
     },
     "output_type": "execute_result"
    }
   ],
   "source": [
    "# ignoring warnings\n",
    "import warnings\n",
    "warnings.filterwarnings('ignore')\n",
    "\n",
    "# reading the dataset\n",
    "import pandas as pd\n",
    "import numpy as np\n",
    "bike_rentals = pd.read_csv('BikeRentalData.csv')\n",
    "bike_rentals_rows_before = bike_rentals.shape[0]\n",
    "\n",
    "# removing duplicates\n",
    "bike_rentals = bike_rentals.drop_duplicates()\n",
    "bike_rentals_rows_after = bike_rentals.shape[0]\n",
    "print(\"number of duplicate values deleted: \", bike_rentals_rows_before - bike_rentals_rows_after)\n",
    "\n",
    "# showing head rows\n",
    "bike_rentals.head()"
   ]
  },
  {
   "cell_type": "code",
   "execution_count": 2,
   "metadata": {
    "collapsed": false,
    "jupyter": {
     "outputs_hidden": false
    }
   },
   "outputs": [
    {
     "data": {
      "text/plain": [
       "(17377, 14)"
      ]
     },
     "execution_count": 2,
     "metadata": {
     },
     "output_type": "execute_result"
    }
   ],
   "source": [
    "# data shape\n",
    "bike_rentals.shape"
   ]
  },
  {
   "cell_type": "markdown",
   "metadata": {
    "collapsed": false
   },
   "source": [
    "#### Identifying the Target Variable and Predictors ####\n",
    "\n",
    "**Target variable**: count of total rental bikes (cnt).\n",
    "\n",
    "**Predictors**: further analysis required."
   ]
  },
  {
   "cell_type": "markdown",
   "metadata": {
    "collapsed": false
   },
   "source": [
    "#### Looking at the Distribution of Target Variable ####\n",
    "\n",
    "If target variable's distribution is too skewed then the predictive modeling will not be possible."
   ]
  },
  {
   "cell_type": "code",
   "execution_count": 3,
   "metadata": {
    "collapsed": false,
    "jupyter": {
     "outputs_hidden": false
    }
   },
   "outputs": [
    {
     "data": {
      "image/png": "[encoded data removed]",
      "text/plain": "<Figure size 432x288 with 1 Axes>"
     },
     "metadata": {
      "needs_background": "light"
     },
     "output_type": "display_data"
    }
   ],
   "source": [
    "import matplotlib.pyplot as plt\n",
    "bike_rentals['cnt'].hist()\n",
    "plt.show()"
   ]
  },
  {
   "cell_type": "markdown",
   "metadata": {
    "collapsed": false
   },
   "source": [
    "There are sufficient number of rows for every value, so the distribution is fine."
   ]
  },
  {
   "cell_type": "markdown",
   "metadata": {
    "collapsed": false
   },
   "source": [
    "#### Basic Data Exploration ####"
   ]
  },
  {
   "cell_type": "code",
   "execution_count": 4,
   "metadata": {
    "collapsed": false,
    "jupyter": {
     "outputs_hidden": false
    }
   },
   "outputs": [
    {
     "name": "stdout",
     "output_type": "stream",
     "text": [
      "<class 'pandas.core.frame.DataFrame'>\n",
      "Int64Index: 17377 entries, 0 to 17378\n",
      "Data columns (total 14 columns):\n",
      " #   Column      Non-Null Count  Dtype  \n",
      "---  ------      --------------  -----  \n",
      " 0   season      17377 non-null  int64  \n",
      " 1   yr          17377 non-null  int64  \n",
      " 2   mnth        17377 non-null  int64  \n",
      " 3   hr          17377 non-null  int64  \n",
      " 4   holiday     17377 non-null  int64  \n",
      " 5   weekday     17377 non-null  int64  \n",
      " 6   workingday  17377 non-null  int64  \n",
      " 7   weathersit  17377 non-null  int64  \n",
      " 8   temp        17377 non-null  float64\n",
      " 9   atemp       17377 non-null  float64\n",
      " 10  hum         17377 non-null  float64\n",
      " 11  windspeed   17377 non-null  float64\n",
      " 12  registered  17377 non-null  int64  \n",
      " 13  cnt         17377 non-null  int64  \n",
      "dtypes: float64(4), int64(10)\n",
      "memory usage: 2.0 MB\n"
     ]
    }
   ],
   "source": [
    "# summary of the data, data types, missing values\n",
    "bike_rentals.info()"
   ]
  },
  {
   "cell_type": "code",
   "execution_count": 5,
   "metadata": {
    "collapsed": false,
    "jupyter": {
     "outputs_hidden": false
    }
   },
   "outputs": [
    {
     "data": {
      "text/plain": [
       "season        0\n",
       "yr            0\n",
       "mnth          0\n",
       "hr            0\n",
       "holiday       0\n",
       "weekday       0\n",
       "workingday    0\n",
       "weathersit    0\n",
       "temp          0\n",
       "atemp         0\n",
       "hum           0\n",
       "windspeed     0\n",
       "registered    0\n",
       "cnt           0\n",
       "dtype: int64"
      ]
     },
     "execution_count": 5,
     "metadata": {
     },
     "output_type": "execute_result"
    }
   ],
   "source": [
    "# confirming there are no missing values in the data set\n",
    "bike_rentals.isnull().sum()"
   ]
  },
  {
   "cell_type": "code",
   "execution_count": 6,
   "metadata": {
    "collapsed": false,
    "jupyter": {
     "outputs_hidden": false
    }
   },
   "outputs": [
    {
     "data": {
      "text/html": [
       "<div>\n",
       "<style scoped>\n",
       "    .dataframe tbody tr th:only-of-type {\n",
       "        vertical-align: middle;\n",
       "    }\n",
       "\n",
       "    .dataframe tbody tr th {\n",
       "        vertical-align: top;\n",
       "    }\n",
       "\n",
       "    .dataframe thead th {\n",
       "        text-align: right;\n",
       "    }\n",
       "</style>\n",
       "<table border=\"1\" class=\"dataframe\">\n",
       "  <thead>\n",
       "    <tr style=\"text-align: right;\">\n",
       "      <th></th>\n",
       "      <th>season</th>\n",
       "      <th>yr</th>\n",
       "      <th>mnth</th>\n",
       "      <th>hr</th>\n",
       "      <th>holiday</th>\n",
       "      <th>weekday</th>\n",
       "      <th>workingday</th>\n",
       "      <th>weathersit</th>\n",
       "      <th>temp</th>\n",
       "      <th>atemp</th>\n",
       "      <th>hum</th>\n",
       "      <th>windspeed</th>\n",
       "      <th>registered</th>\n",
       "      <th>cnt</th>\n",
       "    </tr>\n",
       "  </thead>\n",
       "  <tbody>\n",
       "    <tr>\n",
       "      <th>count</th>\n",
       "      <td>17377.000000</td>\n",
       "      <td>17377.000000</td>\n",
       "      <td>17377.000000</td>\n",
       "      <td>17377.000000</td>\n",
       "      <td>17377.000000</td>\n",
       "      <td>17377.000000</td>\n",
       "      <td>17377.000000</td>\n",
       "      <td>17377.000000</td>\n",
       "      <td>17377.000000</td>\n",
       "      <td>17377.000000</td>\n",
       "      <td>17377.000000</td>\n",
       "      <td>17377.000000</td>\n",
       "      <td>17377.000000</td>\n",
       "      <td>17377.000000</td>\n",
       "    </tr>\n",
       "    <tr>\n",
       "      <th>mean</th>\n",
       "      <td>2.501525</td>\n",
       "      <td>0.502561</td>\n",
       "      <td>6.537435</td>\n",
       "      <td>11.547505</td>\n",
       "      <td>0.028774</td>\n",
       "      <td>3.003568</td>\n",
       "      <td>0.682742</td>\n",
       "      <td>1.425332</td>\n",
       "      <td>0.496993</td>\n",
       "      <td>0.475780</td>\n",
       "      <td>0.627216</td>\n",
       "      <td>0.190108</td>\n",
       "      <td>153.803649</td>\n",
       "      <td>189.483916</td>\n",
       "    </tr>\n",
       "    <tr>\n",
       "      <th>std</th>\n",
       "      <td>1.106917</td>\n",
       "      <td>0.500008</td>\n",
       "      <td>3.438722</td>\n",
       "      <td>6.914438</td>\n",
       "      <td>0.167175</td>\n",
       "      <td>2.005744</td>\n",
       "      <td>0.465422</td>\n",
       "      <td>0.639377</td>\n",
       "      <td>0.192553</td>\n",
       "      <td>0.171849</td>\n",
       "      <td>0.192935</td>\n",
       "      <td>0.122343</td>\n",
       "      <td>151.357913</td>\n",
       "      <td>181.387645</td>\n",
       "    </tr>\n",
       "    <tr>\n",
       "      <th>min</th>\n",
       "      <td>1.000000</td>\n",
       "      <td>0.000000</td>\n",
       "      <td>1.000000</td>\n",
       "      <td>0.000000</td>\n",
       "      <td>0.000000</td>\n",
       "      <td>0.000000</td>\n",
       "      <td>0.000000</td>\n",
       "      <td>1.000000</td>\n",
       "      <td>0.020000</td>\n",
       "      <td>0.000000</td>\n",
       "      <td>0.000000</td>\n",
       "      <td>0.000000</td>\n",
       "      <td>0.000000</td>\n",
       "      <td>1.000000</td>\n",
       "    </tr>\n",
       "    <tr>\n",
       "      <th>25%</th>\n",
       "      <td>2.000000</td>\n",
       "      <td>0.000000</td>\n",
       "      <td>4.000000</td>\n",
       "      <td>6.000000</td>\n",
       "      <td>0.000000</td>\n",
       "      <td>1.000000</td>\n",
       "      <td>0.000000</td>\n",
       "      <td>1.000000</td>\n",
       "      <td>0.340000</td>\n",
       "      <td>0.333300</td>\n",
       "      <td>0.480000</td>\n",
       "      <td>0.104500</td>\n",
       "      <td>34.000000</td>\n",
       "      <td>40.000000</td>\n",
       "    </tr>\n",
       "    <tr>\n",
       "      <th>50%</th>\n",
       "      <td>3.000000</td>\n",
       "      <td>1.000000</td>\n",
       "      <td>7.000000</td>\n",
       "      <td>12.000000</td>\n",
       "      <td>0.000000</td>\n",
       "      <td>3.000000</td>\n",
       "      <td>1.000000</td>\n",
       "      <td>1.000000</td>\n",
       "      <td>0.500000</td>\n",
       "      <td>0.484800</td>\n",
       "      <td>0.630000</td>\n",
       "      <td>0.194000</td>\n",
       "      <td>115.000000</td>\n",
       "      <td>142.000000</td>\n",
       "    </tr>\n",
       "    <tr>\n",
       "      <th>75%</th>\n",
       "      <td>3.000000</td>\n",
       "      <td>1.000000</td>\n",
       "      <td>10.000000</td>\n",
       "      <td>18.000000</td>\n",
       "      <td>0.000000</td>\n",
       "      <td>5.000000</td>\n",
       "      <td>1.000000</td>\n",
       "      <td>2.000000</td>\n",
       "      <td>0.660000</td>\n",
       "      <td>0.621200</td>\n",
       "      <td>0.780000</td>\n",
       "      <td>0.253700</td>\n",
       "      <td>220.000000</td>\n",
       "      <td>281.000000</td>\n",
       "    </tr>\n",
       "    <tr>\n",
       "      <th>max</th>\n",
       "      <td>4.000000</td>\n",
       "      <td>1.000000</td>\n",
       "      <td>12.000000</td>\n",
       "      <td>23.000000</td>\n",
       "      <td>1.000000</td>\n",
       "      <td>6.000000</td>\n",
       "      <td>1.000000</td>\n",
       "      <td>4.000000</td>\n",
       "      <td>1.000000</td>\n",
       "      <td>1.000000</td>\n",
       "      <td>1.000000</td>\n",
       "      <td>0.850700</td>\n",
       "      <td>886.000000</td>\n",
       "      <td>977.000000</td>\n",
       "    </tr>\n",
       "  </tbody>\n",
       "</table>\n",
       "</div>"
      ],
      "text/plain": [
       "             season            yr          mnth            hr       holiday  \\\n",
       "count  17377.000000  17377.000000  17377.000000  17377.000000  17377.000000   \n",
       "mean       2.501525      0.502561      6.537435     11.547505      0.028774   \n",
       "std        1.106917      0.500008      3.438722      6.914438      0.167175   \n",
       "min        1.000000      0.000000      1.000000      0.000000      0.000000   \n",
       "25%        2.000000      0.000000      4.000000      6.000000      0.000000   \n",
       "50%        3.000000      1.000000      7.000000     12.000000      0.000000   \n",
       "75%        3.000000      1.000000     10.000000     18.000000      0.000000   \n",
       "max        4.000000      1.000000     12.000000     23.000000      1.000000   \n",
       "\n",
       "            weekday    workingday    weathersit          temp         atemp  \\\n",
       "count  17377.000000  17377.000000  17377.000000  17377.000000  17377.000000   \n",
       "mean       3.003568      0.682742      1.425332      0.496993      0.475780   \n",
       "std        2.005744      0.465422      0.639377      0.192553      0.171849   \n",
       "min        0.000000      0.000000      1.000000      0.020000      0.000000   \n",
       "25%        1.000000      0.000000      1.000000      0.340000      0.333300   \n",
       "50%        3.000000      1.000000      1.000000      0.500000      0.484800   \n",
       "75%        5.000000      1.000000      2.000000      0.660000      0.621200   \n",
       "max        6.000000      1.000000      4.000000      1.000000      1.000000   \n",
       "\n",
       "                hum     windspeed    registered           cnt  \n",
       "count  17377.000000  17377.000000  17377.000000  17377.000000  \n",
       "mean       0.627216      0.190108    153.803649    189.483916  \n",
       "std        0.192935      0.122343    151.357913    181.387645  \n",
       "min        0.000000      0.000000      0.000000      1.000000  \n",
       "25%        0.480000      0.104500     34.000000     40.000000  \n",
       "50%        0.630000      0.194000    115.000000    142.000000  \n",
       "75%        0.780000      0.253700    220.000000    281.000000  \n",
       "max        1.000000      0.850700    886.000000    977.000000  "
      ]
     },
     "execution_count": 6,
     "metadata": {
     },
     "output_type": "execute_result"
    }
   ],
   "source": [
    "# descriptive statistic of the data\n",
    "bike_rentals.describe()"
   ]
  },
  {
   "cell_type": "code",
   "execution_count": 7,
   "metadata": {
    "collapsed": false,
    "jupyter": {
     "outputs_hidden": false
    }
   },
   "outputs": [
    {
     "data": {
      "text/plain": [
       "season          4\n",
       "yr              2\n",
       "mnth           12\n",
       "hr             24\n",
       "holiday         2\n",
       "weekday         7\n",
       "workingday      2\n",
       "weathersit      4\n",
       "temp           50\n",
       "atemp          65\n",
       "hum            89\n",
       "windspeed      30\n",
       "registered    776\n",
       "cnt           869\n",
       "dtype: int64"
      ]
     },
     "execution_count": 7,
     "metadata": {
     },
     "output_type": "execute_result"
    }
   ],
   "source": [
    "# unique values for each column\n",
    "bike_rentals.nunique()"
   ]
  },
  {
   "cell_type": "markdown",
   "metadata": {
    "collapsed": false
   },
   "source": [
    "According to the statistics above, we can now discern the type of data for each column.\n",
    "\n",
    "**Continuous data**: temp, atemp, hum, windspeed, registered\n",
    "\n",
    "**Categorical data**: season, mnth, hr, holiday, weekday, workingday, weathersit\n",
    "\n",
    "Data in 'yr' column is useless - it has an ID type of quality (0 stands for 2011 and 1 for 2012) - so it will be excluded from the dataset."
   ]
  },
  {
   "cell_type": "code",
   "execution_count": 8,
   "metadata": {
    "collapsed": false,
    "jupyter": {
     "outputs_hidden": false
    }
   },
   "outputs": [
   ],
   "source": [
    "# removing useless data\n",
    "bike_rentals.drop(['yr'], axis=1, inplace=True)"
   ]
  },
  {
   "cell_type": "code",
   "execution_count": 9,
   "metadata": {
    "collapsed": false,
    "jupyter": {
     "outputs_hidden": false
    }
   },
   "outputs": [
    {
     "data": {
      "text/html": [
       "<div>\n",
       "<style scoped>\n",
       "    .dataframe tbody tr th:only-of-type {\n",
       "        vertical-align: middle;\n",
       "    }\n",
       "\n",
       "    .dataframe tbody tr th {\n",
       "        vertical-align: top;\n",
       "    }\n",
       "\n",
       "    .dataframe thead th {\n",
       "        text-align: right;\n",
       "    }\n",
       "</style>\n",
       "<table border=\"1\" class=\"dataframe\">\n",
       "  <thead>\n",
       "    <tr style=\"text-align: right;\">\n",
       "      <th></th>\n",
       "      <th>season</th>\n",
       "      <th>mnth</th>\n",
       "      <th>hr</th>\n",
       "      <th>holiday</th>\n",
       "      <th>weekday</th>\n",
       "      <th>workingday</th>\n",
       "      <th>weathersit</th>\n",
       "      <th>temp</th>\n",
       "      <th>atemp</th>\n",
       "      <th>hum</th>\n",
       "      <th>windspeed</th>\n",
       "      <th>registered</th>\n",
       "      <th>cnt</th>\n",
       "    </tr>\n",
       "  </thead>\n",
       "  <tbody>\n",
       "    <tr>\n",
       "      <th>0</th>\n",
       "      <td>1</td>\n",
       "      <td>1</td>\n",
       "      <td>0</td>\n",
       "      <td>0</td>\n",
       "      <td>6</td>\n",
       "      <td>0</td>\n",
       "      <td>1</td>\n",
       "      <td>0.24</td>\n",
       "      <td>0.2879</td>\n",
       "      <td>0.81</td>\n",
       "      <td>0.0</td>\n",
       "      <td>13</td>\n",
       "      <td>16</td>\n",
       "    </tr>\n",
       "    <tr>\n",
       "      <th>1</th>\n",
       "      <td>1</td>\n",
       "      <td>1</td>\n",
       "      <td>1</td>\n",
       "      <td>0</td>\n",
       "      <td>6</td>\n",
       "      <td>0</td>\n",
       "      <td>1</td>\n",
       "      <td>0.22</td>\n",
       "      <td>0.2727</td>\n",
       "      <td>0.80</td>\n",
       "      <td>0.0</td>\n",
       "      <td>32</td>\n",
       "      <td>40</td>\n",
       "    </tr>\n",
       "    <tr>\n",
       "      <th>2</th>\n",
       "      <td>1</td>\n",
       "      <td>1</td>\n",
       "      <td>2</td>\n",
       "      <td>0</td>\n",
       "      <td>6</td>\n",
       "      <td>0</td>\n",
       "      <td>1</td>\n",
       "      <td>0.22</td>\n",
       "      <td>0.2727</td>\n",
       "      <td>0.80</td>\n",
       "      <td>0.0</td>\n",
       "      <td>27</td>\n",
       "      <td>32</td>\n",
       "    </tr>\n",
       "    <tr>\n",
       "      <th>3</th>\n",
       "      <td>1</td>\n",
       "      <td>1</td>\n",
       "      <td>3</td>\n",
       "      <td>0</td>\n",
       "      <td>6</td>\n",
       "      <td>0</td>\n",
       "      <td>1</td>\n",
       "      <td>0.24</td>\n",
       "      <td>0.2879</td>\n",
       "      <td>0.75</td>\n",
       "      <td>0.0</td>\n",
       "      <td>10</td>\n",
       "      <td>13</td>\n",
       "    </tr>\n",
       "    <tr>\n",
       "      <th>4</th>\n",
       "      <td>1</td>\n",
       "      <td>1</td>\n",
       "      <td>4</td>\n",
       "      <td>0</td>\n",
       "      <td>6</td>\n",
       "      <td>0</td>\n",
       "      <td>1</td>\n",
       "      <td>0.24</td>\n",
       "      <td>0.2879</td>\n",
       "      <td>0.75</td>\n",
       "      <td>0.0</td>\n",
       "      <td>1</td>\n",
       "      <td>1</td>\n",
       "    </tr>\n",
       "  </tbody>\n",
       "</table>\n",
       "</div>"
      ],
      "text/plain": [
       "   season  mnth  hr  holiday  weekday  workingday  weathersit  temp   atemp  \\\n",
       "0       1     1   0        0        6           0           1  0.24  0.2879   \n",
       "1       1     1   1        0        6           0           1  0.22  0.2727   \n",
       "2       1     1   2        0        6           0           1  0.22  0.2727   \n",
       "3       1     1   3        0        6           0           1  0.24  0.2879   \n",
       "4       1     1   4        0        6           0           1  0.24  0.2879   \n",
       "\n",
       "    hum  windspeed  registered  cnt  \n",
       "0  0.81        0.0          13   16  \n",
       "1  0.80        0.0          32   40  \n",
       "2  0.80        0.0          27   32  \n",
       "3  0.75        0.0          10   13  \n",
       "4  0.75        0.0           1    1  "
      ]
     },
     "execution_count": 9,
     "metadata": {
     },
     "output_type": "execute_result"
    }
   ],
   "source": [
    "bike_rentals.head()"
   ]
  },
  {
   "cell_type": "markdown",
   "metadata": {
    "collapsed": false
   },
   "source": [
    "#### Visual Exploratory Data Analysis ####"
   ]
  },
  {
   "cell_type": "code",
   "execution_count": 10,
   "metadata": {
    "collapsed": false,
    "jupyter": {
     "outputs_hidden": false
    }
   },
   "outputs": [
    {
     "data": {
      "image/png": "[encoded data removed]",
      "text/plain": "<Figure size 432x288 with 1 Axes>"
     },
     "metadata": {
      "needs_background": "light"
     },
     "output_type": "display_data"
    },
    {
     "data": {
      "image/png": "[encoded data removed]",
      "text/plain": "<Figure size 432x288 with 1 Axes>"
     },
     "metadata": {
      "needs_background": "light"
     },
     "output_type": "display_data"
    },
    {
     "data": {
      "image/png": "[encoded data removed]",
      "text/plain": "<Figure size 432x288 with 1 Axes>"
     },
     "metadata": {
      "needs_background": "light"
     },
     "output_type": "display_data"
    },
    {
     "data": {
      "image/png": "[encoded data removed]",
      "text/plain": "<Figure size 432x288 with 1 Axes>"
     },
     "metadata": {
      "needs_background": "light"
     },
     "output_type": "display_data"
    },
    {
     "data": {
      "image/png": "[encoded data removed]",
      "text/plain": "<Figure size 432x288 with 1 Axes>"
     },
     "metadata": {
      "needs_background": "light"
     },
     "output_type": "display_data"
    },
    {
     "data": {
      "image/png": "[encoded data removed]",
      "text/plain": "<Figure size 432x288 with 1 Axes>"
     },
     "metadata": {
      "needs_background": "light"
     },
     "output_type": "display_data"
    },
    {
     "data": {
      "image/png": "[encoded data removed]",
      "text/plain": "<Figure size 432x288 with 1 Axes>"
     },
     "metadata": {
      "needs_background": "light"
     },
     "output_type": "display_data"
    }
   ],
   "source": [
    "# inspecting distribution of data in categorical columns\n",
    "for column in ['season', 'mnth', 'hr', 'holiday', 'weekday', 'workingday', 'weathersit']:\n",
    "    plt.figure(figsize=(6,4))\n",
    "    bike_rentals.groupby(column).size().plot(kind='bar')\n",
    "    plt.xticks(rotation=0)\n",
    "    plt.show()"
   ]
  },
  {
   "cell_type": "markdown",
   "metadata": {
    "collapsed": false
   },
   "source": [
    "**Interpretation:**\n",
    "The charts above show the distribution of values in each categorical column. Every categorical value has its own distribution, or number of rows in which they appear (e.g. in the season column there are over 4000 rows in which category 1 appear).\n",
    "\n",
    "There is a well spread distribution for all the values in all of the charts above, except for category 1 in **holiday** column. Here we have a very skewed graph."
   ]
  },
  {
   "cell_type": "code",
   "execution_count": 11,
   "metadata": {
    "collapsed": false,
    "jupyter": {
     "outputs_hidden": false
    }
   },
   "outputs": [
    {
     "data": {
      "image/png": "[encoded data removed]",
      "text/plain": "<Figure size 360x216 with 1 Axes>"
     },
     "metadata": {
      "needs_background": "light"
     },
     "output_type": "display_data"
    },
    {
     "data": {
      "image/png": "[encoded data removed]",
      "text/plain": "<Figure size 360x216 with 1 Axes>"
     },
     "metadata": {
      "needs_background": "light"
     },
     "output_type": "display_data"
    },
    {
     "data": {
      "image/png": "[encoded data removed]",
      "text/plain": "<Figure size 360x216 with 1 Axes>"
     },
     "metadata": {
      "needs_background": "light"
     },
     "output_type": "display_data"
    },
    {
     "data": {
      "image/png": "[encoded data removed]",
      "text/plain": "<Figure size 360x216 with 1 Axes>"
     },
     "metadata": {
      "needs_background": "light"
     },
     "output_type": "display_data"
    },
    {
     "data": {
      "image/png": "[encoded data removed]",
      "text/plain": "<Figure size 360x216 with 1 Axes>"
     },
     "metadata": {
      "needs_background": "light"
     },
     "output_type": "display_data"
    }
   ],
   "source": [
    "# inspecting distribution of data in categorical columns\n",
    "for column in ['temp', 'atemp', 'hum', 'windspeed', 'registered']:\n",
    "    plt.figure(figsize=(5,3))\n",
    "    bike_rentals[column].hist()\n",
    "    plt.title(column)\n",
    "    plt.show()"
   ]
  },
  {
   "cell_type": "markdown",
   "metadata": {
    "collapsed": false
   },
   "source": [
    "The distribution of values in these columns are well spread."
   ]
  },
  {
   "cell_type": "markdown",
   "metadata": {
    "collapsed": false
   },
   "source": [
    "#### Feature Selection ####\n",
    "\n",
    "We will choose feature columns according to correlation between each predictor and the target variable.\n",
    "\n",
    "The correlations will be examined visually and by the means of statistical measurements:\n",
    "- continuous predictors (temp, atemp, hum, windspeed, registered) Vs. continuous target variable (cnt) - scatter charts and correlation matrix\n",
    "- categorical predictors (season, mnth, hr, holiday, weekday, workingday, wheathersit) Vs. continuous target variable (cnt) -  boxplots and ANoVa"
   ]
  },
  {
   "cell_type": "code",
   "execution_count": 12,
   "metadata": {
    "collapsed": false,
    "jupyter": {
     "outputs_hidden": false
    }
   },
   "outputs": [
    {
     "data": {
      "image/png": "[encoded data removed]",
      "text/plain": "<Figure size 432x288 with 1 Axes>"
     },
     "metadata": {
      "needs_background": "light"
     },
     "output_type": "display_data"
    },
    {
     "data": {
      "image/png": "[encoded data removed]",
      "text/plain": "<Figure size 432x288 with 1 Axes>"
     },
     "metadata": {
      "needs_background": "light"
     },
     "output_type": "display_data"
    },
    {
     "data": {
      "image/png": "[encoded data removed]",
      "text/plain": "<Figure size 432x288 with 1 Axes>"
     },
     "metadata": {
      "needs_background": "light"
     },
     "output_type": "display_data"
    },
    {
     "data": {
      "image/png": "[encoded data removed]",
      "text/plain": "<Figure size 432x288 with 1 Axes>"
     },
     "metadata": {
      "needs_background": "light"
     },
     "output_type": "display_data"
    },
    {
     "data": {
      "image/png": "[encoded data removed]",
      "text/plain": "<Figure size 432x288 with 1 Axes>"
     },
     "metadata": {
      "needs_background": "light"
     },
     "output_type": "display_data"
    }
   ],
   "source": [
    "# relationship exploration with scatter charts\n",
    "for column in ['temp', 'atemp', 'hum', 'windspeed', 'registered']:\n",
    "    bike_rentals.plot.scatter(x=column, y='cnt')\n",
    "    plt.title(column)\n",
    "    plt.show()"
   ]
  },
  {
   "cell_type": "code",
   "execution_count": 13,
   "metadata": {
    "collapsed": false,
    "jupyter": {
     "outputs_hidden": false
    }
   },
   "outputs": [
    {
     "data": {
      "text/html": [
       "<div>\n",
       "<style scoped>\n",
       "    .dataframe tbody tr th:only-of-type {\n",
       "        vertical-align: middle;\n",
       "    }\n",
       "\n",
       "    .dataframe tbody tr th {\n",
       "        vertical-align: top;\n",
       "    }\n",
       "\n",
       "    .dataframe thead th {\n",
       "        text-align: right;\n",
       "    }\n",
       "</style>\n",
       "<table border=\"1\" class=\"dataframe\">\n",
       "  <thead>\n",
       "    <tr style=\"text-align: right;\">\n",
       "      <th></th>\n",
       "      <th>cnt</th>\n",
       "      <th>temp</th>\n",
       "      <th>atemp</th>\n",
       "      <th>hum</th>\n",
       "      <th>windspeed</th>\n",
       "      <th>registered</th>\n",
       "    </tr>\n",
       "  </thead>\n",
       "  <tbody>\n",
       "    <tr>\n",
       "      <th>cnt</th>\n",
       "      <td>1.000000</td>\n",
       "      <td>0.404798</td>\n",
       "      <td>0.400950</td>\n",
       "      <td>-0.322872</td>\n",
       "      <td>0.093155</td>\n",
       "      <td>0.972148</td>\n",
       "    </tr>\n",
       "    <tr>\n",
       "      <th>temp</th>\n",
       "      <td>0.404798</td>\n",
       "      <td>1.000000</td>\n",
       "      <td>0.987671</td>\n",
       "      <td>-0.069931</td>\n",
       "      <td>-0.023141</td>\n",
       "      <td>0.335377</td>\n",
       "    </tr>\n",
       "    <tr>\n",
       "      <th>atemp</th>\n",
       "      <td>0.400950</td>\n",
       "      <td>0.987671</td>\n",
       "      <td>1.000000</td>\n",
       "      <td>-0.051960</td>\n",
       "      <td>-0.062357</td>\n",
       "      <td>0.332571</td>\n",
       "    </tr>\n",
       "    <tr>\n",
       "      <th>hum</th>\n",
       "      <td>-0.322872</td>\n",
       "      <td>-0.069931</td>\n",
       "      <td>-0.051960</td>\n",
       "      <td>1.000000</td>\n",
       "      <td>-0.290070</td>\n",
       "      <td>-0.273891</td>\n",
       "    </tr>\n",
       "    <tr>\n",
       "      <th>windspeed</th>\n",
       "      <td>0.093155</td>\n",
       "      <td>-0.023141</td>\n",
       "      <td>-0.062357</td>\n",
       "      <td>-0.290070</td>\n",
       "      <td>1.000000</td>\n",
       "      <td>0.082244</td>\n",
       "    </tr>\n",
       "    <tr>\n",
       "      <th>registered</th>\n",
       "      <td>0.972148</td>\n",
       "      <td>0.335377</td>\n",
       "      <td>0.332571</td>\n",
       "      <td>-0.273891</td>\n",
       "      <td>0.082244</td>\n",
       "      <td>1.000000</td>\n",
       "    </tr>\n",
       "  </tbody>\n",
       "</table>\n",
       "</div>"
      ],
      "text/plain": [
       "                 cnt      temp     atemp       hum  windspeed  registered\n",
       "cnt         1.000000  0.404798  0.400950 -0.322872   0.093155    0.972148\n",
       "temp        0.404798  1.000000  0.987671 -0.069931  -0.023141    0.335377\n",
       "atemp       0.400950  0.987671  1.000000 -0.051960  -0.062357    0.332571\n",
       "hum        -0.322872 -0.069931 -0.051960  1.000000  -0.290070   -0.273891\n",
       "windspeed   0.093155 -0.023141 -0.062357 -0.290070   1.000000    0.082244\n",
       "registered  0.972148  0.335377  0.332571 -0.273891   0.082244    1.000000"
      ]
     },
     "execution_count": 13,
     "metadata": {
     },
     "output_type": "execute_result"
    }
   ],
   "source": [
    "# relationship exploration with correlation matrix\n",
    "bike_rentals[['cnt', 'temp', 'atemp', 'hum', 'windspeed', 'registered']].corr()"
   ]
  },
  {
   "cell_type": "markdown",
   "metadata": {
    "collapsed": false
   },
   "source": [
    "**Interpretation:**\n",
    "We can clearly see the correlation between 'registered' column and target column, both visually and by the number (corr=0.97). Other columns are not correlated with 'cnt'.\n",
    "\n",
    "Final selection from the continuous columns: **registered**."
   ]
  },
  {
   "cell_type": "code",
   "execution_count": 14,
   "metadata": {
    "collapsed": false,
    "jupyter": {
     "outputs_hidden": false
    }
   },
   "outputs": [
    {
     "data": {
      "image/png": "[encoded data removed]",
      "text/plain": "<Figure size 432x288 with 1 Axes>"
     },
     "metadata": {
      "needs_background": "light"
     },
     "output_type": "display_data"
    },
    {
     "data": {
      "image/png": "[encoded data removed]",
      "text/plain": "<Figure size 432x288 with 1 Axes>"
     },
     "metadata": {
      "needs_background": "light"
     },
     "output_type": "display_data"
    },
    {
     "data": {
      "image/png": "[encoded data removed]",
      "text/plain": "<Figure size 432x288 with 1 Axes>"
     },
     "metadata": {
      "needs_background": "light"
     },
     "output_type": "display_data"
    },
    {
     "data": {
      "image/png": "[encoded data removed]",
      "text/plain": "<Figure size 432x288 with 1 Axes>"
     },
     "metadata": {
      "needs_background": "light"
     },
     "output_type": "display_data"
    },
    {
     "data": {
      "image/png": "[encoded data removed]",
      "text/plain": "<Figure size 432x288 with 1 Axes>"
     },
     "metadata": {
      "needs_background": "light"
     },
     "output_type": "display_data"
    },
    {
     "data": {
      "image/png": "[encoded data removed]",
      "text/plain": "<Figure size 432x288 with 1 Axes>"
     },
     "metadata": {
      "needs_background": "light"
     },
     "output_type": "display_data"
    },
    {
     "data": {
      "image/png": "[encoded data removed]",
      "text/plain": "<Figure size 432x288 with 1 Axes>"
     },
     "metadata": {
      "needs_background": "light"
     },
     "output_type": "display_data"
    }
   ],
   "source": [
    "# relationship exploration with box plots\n",
    "for col in ['season', 'mnth', 'hr', 'holiday', 'weekday', 'workingday', 'weathersit']:\n",
    "    bike_rentals.boxplot(by=col, column='cnt', vert=True)\n",
    "    plt.show()"
   ]
  },
  {
   "cell_type": "markdown",
   "metadata": {
    "collapsed": false
   },
   "source": [
    "**Interpretation:** The distribution seems to be different for each category (the boxes are not in same line). In this data, all the categorical predictors looks correlated with the Target variable."
   ]
  },
  {
   "cell_type": "code",
   "execution_count": 15,
   "metadata": {
    "collapsed": false,
    "jupyter": {
     "outputs_hidden": false
    }
   },
   "outputs": [
   ],
   "source": [
    "# relationship exploration with ANoVA (Analysis of Variance)\n",
    "def anova_function(data, target_var, predictors):\n",
    "    from scipy.stats import f_oneway\n",
    "    '''\n",
    "    Function for the one-way ANOVA tests the null hypothesis (H0)\n",
    "    that two or more groups have the same population mean.\n",
    "    '''\n",
    "    selected_predictors = [] # list of predictors that are correlated with target variable\n",
    "    for predictor in predictors:\n",
    "        grouped_list = data.groupby(predictor)[target_var].apply(list)\n",
    "        anova_res = f_oneway(*grouped_list)\n",
    "        \n",
    "        # if calculated P-value is smaller than 0.05, we reject hypothesis (H0) that there is no correlation between a predictor and the target variable\n",
    "        if anova_res[1] < 0.05:\n",
    "            print(f\"'{predictor}' is correlated with the target variable; P-value: {anova_res[1]}\")\n",
    "            selected_predictors.append(predictor)\n",
    "        else:\n",
    "            print(f\"{predictor} is not correlated with the target variable;, P-value: {anov_res[1]}\")\n",
    "            \n",
    "    return selected_predictors"
   ]
  },
  {
   "cell_type": "code",
   "execution_count": 16,
   "metadata": {
    "collapsed": false,
    "jupyter": {
     "outputs_hidden": false
    }
   },
   "outputs": [
    {
     "name": "stdout",
     "output_type": "stream",
     "text": [
      "'season' is correlated with the target variable; P-value: 5.106220835895279e-257\n",
      "'mnth' is correlated with the target variable; P-value: 5.2484657372432516e-284\n",
      "'hr' is correlated with the target variable; P-value: 0.0\n",
      "'holiday' is correlated with the target variable; P-value: 4.495359698010671e-05\n",
      "'weekday' is correlated with the target variable; P-value: 0.0018766923121991564\n",
      "'workingday' is correlated with the target variable; P-value: 6.675147740900618e-05\n",
      "'weathersit' is correlated with the target variable; P-value: 1.4485803474430875e-81\n"
     ]
    },
    {
     "data": {
      "text/plain": [
       "['season', 'mnth', 'hr', 'holiday', 'weekday', 'workingday', 'weathersit']"
      ]
     },
     "execution_count": 16,
     "metadata": {
     },
     "output_type": "execute_result"
    }
   ],
   "source": [
    "anova_function(bike_rentals, 'cnt', ['season', 'mnth', 'hr', 'holiday', 'weekday', 'workingday', 'weathersit'])"
   ]
  },
  {
   "cell_type": "markdown",
   "metadata": {
    "collapsed": false
   },
   "source": [
    "**Interpretation:** the ANoVA test corroborated the box plot analysis and confirmed that the predictors 'season', 'mnth', 'hr', 'holiday', 'weekday', 'workingday' and 'weathersit' are correlated with the target variable."
   ]
  },
  {
   "cell_type": "code",
   "execution_count": 17,
   "metadata": {
    "collapsed": false,
    "jupyter": {
     "outputs_hidden": false
    }
   },
   "outputs": [
    {
     "data": {
      "text/html": [
       "<div>\n",
       "<style scoped>\n",
       "    .dataframe tbody tr th:only-of-type {\n",
       "        vertical-align: middle;\n",
       "    }\n",
       "\n",
       "    .dataframe tbody tr th {\n",
       "        vertical-align: top;\n",
       "    }\n",
       "\n",
       "    .dataframe thead th {\n",
       "        text-align: right;\n",
       "    }\n",
       "</style>\n",
       "<table border=\"1\" class=\"dataframe\">\n",
       "  <thead>\n",
       "    <tr style=\"text-align: right;\">\n",
       "      <th></th>\n",
       "      <th>registered</th>\n",
       "      <th>season</th>\n",
       "      <th>mnth</th>\n",
       "      <th>hr</th>\n",
       "      <th>holiday</th>\n",
       "      <th>weekday</th>\n",
       "      <th>workingday</th>\n",
       "      <th>weathersit</th>\n",
       "    </tr>\n",
       "  </thead>\n",
       "  <tbody>\n",
       "    <tr>\n",
       "      <th>0</th>\n",
       "      <td>13</td>\n",
       "      <td>1</td>\n",
       "      <td>1</td>\n",
       "      <td>0</td>\n",
       "      <td>0</td>\n",
       "      <td>6</td>\n",
       "      <td>0</td>\n",
       "      <td>1</td>\n",
       "    </tr>\n",
       "    <tr>\n",
       "      <th>1</th>\n",
       "      <td>32</td>\n",
       "      <td>1</td>\n",
       "      <td>1</td>\n",
       "      <td>1</td>\n",
       "      <td>0</td>\n",
       "      <td>6</td>\n",
       "      <td>0</td>\n",
       "      <td>1</td>\n",
       "    </tr>\n",
       "    <tr>\n",
       "      <th>2</th>\n",
       "      <td>27</td>\n",
       "      <td>1</td>\n",
       "      <td>1</td>\n",
       "      <td>2</td>\n",
       "      <td>0</td>\n",
       "      <td>6</td>\n",
       "      <td>0</td>\n",
       "      <td>1</td>\n",
       "    </tr>\n",
       "    <tr>\n",
       "      <th>3</th>\n",
       "      <td>10</td>\n",
       "      <td>1</td>\n",
       "      <td>1</td>\n",
       "      <td>3</td>\n",
       "      <td>0</td>\n",
       "      <td>6</td>\n",
       "      <td>0</td>\n",
       "      <td>1</td>\n",
       "    </tr>\n",
       "    <tr>\n",
       "      <th>4</th>\n",
       "      <td>1</td>\n",
       "      <td>1</td>\n",
       "      <td>1</td>\n",
       "      <td>4</td>\n",
       "      <td>0</td>\n",
       "      <td>6</td>\n",
       "      <td>0</td>\n",
       "      <td>1</td>\n",
       "    </tr>\n",
       "  </tbody>\n",
       "</table>\n",
       "</div>"
      ],
      "text/plain": [
       "   registered  season  mnth  hr  holiday  weekday  workingday  weathersit\n",
       "0          13       1     1   0        0        6           0           1\n",
       "1          32       1     1   1        0        6           0           1\n",
       "2          27       1     1   2        0        6           0           1\n",
       "3          10       1     1   3        0        6           0           1\n",
       "4           1       1     1   4        0        6           0           1"
      ]
     },
     "execution_count": 17,
     "metadata": {
     },
     "output_type": "execute_result"
    }
   ],
   "source": [
    "# selecting final predictors for machine learning model\n",
    "predictors = ['registered', 'season', 'mnth', 'hr', 'holiday', 'weekday', 'workingday', 'weathersit']\n",
    "ml_data = bike_rentals[predictors]\n",
    "\n",
    "ml_data.head()"
   ]
  },
  {
   "cell_type": "code",
   "execution_count": 18,
   "metadata": {
    "collapsed": false,
    "jupyter": {
     "outputs_hidden": false
    }
   },
   "outputs": [
   ],
   "source": [
    "# saving the final ml_data for reference during deployment\n",
    "ml_data.to_pickle('ml_data.pkl')"
   ]
  },
  {
   "cell_type": "code",
   "execution_count": 19,
   "metadata": {
    "collapsed": false,
    "jupyter": {
     "outputs_hidden": false
    }
   },
   "outputs": [
    {
     "data": {
      "text/html": [
       "<div>\n",
       "<style scoped>\n",
       "    .dataframe tbody tr th:only-of-type {\n",
       "        vertical-align: middle;\n",
       "    }\n",
       "\n",
       "    .dataframe tbody tr th {\n",
       "        vertical-align: top;\n",
       "    }\n",
       "\n",
       "    .dataframe thead th {\n",
       "        text-align: right;\n",
       "    }\n",
       "</style>\n",
       "<table border=\"1\" class=\"dataframe\">\n",
       "  <thead>\n",
       "    <tr style=\"text-align: right;\">\n",
       "      <th></th>\n",
       "      <th>registered</th>\n",
       "      <th>season</th>\n",
       "      <th>mnth</th>\n",
       "      <th>hr</th>\n",
       "      <th>holiday</th>\n",
       "      <th>weekday</th>\n",
       "      <th>workingday</th>\n",
       "      <th>weathersit</th>\n",
       "      <th>cnt</th>\n",
       "    </tr>\n",
       "  </thead>\n",
       "  <tbody>\n",
       "    <tr>\n",
       "      <th>0</th>\n",
       "      <td>13</td>\n",
       "      <td>1</td>\n",
       "      <td>1</td>\n",
       "      <td>0</td>\n",
       "      <td>0</td>\n",
       "      <td>6</td>\n",
       "      <td>0</td>\n",
       "      <td>1</td>\n",
       "      <td>16</td>\n",
       "    </tr>\n",
       "    <tr>\n",
       "      <th>1</th>\n",
       "      <td>32</td>\n",
       "      <td>1</td>\n",
       "      <td>1</td>\n",
       "      <td>1</td>\n",
       "      <td>0</td>\n",
       "      <td>6</td>\n",
       "      <td>0</td>\n",
       "      <td>1</td>\n",
       "      <td>40</td>\n",
       "    </tr>\n",
       "    <tr>\n",
       "      <th>2</th>\n",
       "      <td>27</td>\n",
       "      <td>1</td>\n",
       "      <td>1</td>\n",
       "      <td>2</td>\n",
       "      <td>0</td>\n",
       "      <td>6</td>\n",
       "      <td>0</td>\n",
       "      <td>1</td>\n",
       "      <td>32</td>\n",
       "    </tr>\n",
       "    <tr>\n",
       "      <th>3</th>\n",
       "      <td>10</td>\n",
       "      <td>1</td>\n",
       "      <td>1</td>\n",
       "      <td>3</td>\n",
       "      <td>0</td>\n",
       "      <td>6</td>\n",
       "      <td>0</td>\n",
       "      <td>1</td>\n",
       "      <td>13</td>\n",
       "    </tr>\n",
       "    <tr>\n",
       "      <th>4</th>\n",
       "      <td>1</td>\n",
       "      <td>1</td>\n",
       "      <td>1</td>\n",
       "      <td>4</td>\n",
       "      <td>0</td>\n",
       "      <td>6</td>\n",
       "      <td>0</td>\n",
       "      <td>1</td>\n",
       "      <td>1</td>\n",
       "    </tr>\n",
       "  </tbody>\n",
       "</table>\n",
       "</div>"
      ],
      "text/plain": [
       "   registered  season  mnth  hr  holiday  weekday  workingday  weathersit  cnt\n",
       "0          13       1     1   0        0        6           0           1   16\n",
       "1          32       1     1   1        0        6           0           1   40\n",
       "2          27       1     1   2        0        6           0           1   32\n",
       "3          10       1     1   3        0        6           0           1   13\n",
       "4           1       1     1   4        0        6           0           1    1"
      ]
     },
     "execution_count": 19,
     "metadata": {
     },
     "output_type": "execute_result"
    }
   ],
   "source": [
    "# final dataset ready to implement machine learning\n",
    "ml_data_numeric = pd.get_dummies(ml_data)\n",
    "ml_data_numeric['cnt'] = bike_rentals['cnt']\n",
    "ml_data_numeric.head()"
   ]
  },
  {
   "cell_type": "markdown",
   "metadata": {
    "collapsed": false
   },
   "source": [
    "#### Machine Learning: Splitting Data into Training and Testing Sample Sets ####\n",
    "\n",
    "- 70% od data goes to Train dataset - this dataset is used to train ML model\n",
    "- the remainder becomes Test dataset - for testing how good the model is"
   ]
  },
  {
   "cell_type": "code",
   "execution_count": 20,
   "metadata": {
    "collapsed": false,
    "jupyter": {
     "outputs_hidden": false
    }
   },
   "outputs": [
   ],
   "source": [
    "from sklearn.model_selection import train_test_split\n",
    "\n",
    "target = ['cnt']\n",
    "predictors = ['registered', 'season', 'mnth', 'hr', 'holiday', 'weekday', 'workingday', 'weathersit']\n",
    "\n",
    "X = ml_data_numeric[predictors].values\n",
    "y = ml_data_numeric[target].values\n",
    "\n",
    "# splitting data into train and test datasets\n",
    "X_train, X_test, y_train, y_test = train_test_split(X, y, test_size=0.3, random_state=428)"
   ]
  },
  {
   "cell_type": "code",
   "execution_count": 21,
   "metadata": {
    "collapsed": false,
    "jupyter": {
     "outputs_hidden": false
    }
   },
   "outputs": [
   ],
   "source": [
    "# standardization/normalization of the dataset (this step required for KNN)\n",
    "from sklearn.preprocessing import StandardScaler, MinMaxScaler\n",
    "\n",
    "# instantiating either Standard or MinMax scaler\n",
    "predictor_scaler = MinMaxScaler()\n",
    "\n",
    "# storing the fit object and generating the standardized values of X\n",
    "X = predictor_scaler.fit(X).transform(X)\n",
    "\n",
    "# splitting data into train and test datasets\n",
    "X_train, X_test, y_train, y_test = train_test_split(X, y, test_size=0.3, random_state=42)"
   ]
  },
  {
   "cell_type": "code",
   "execution_count": 22,
   "metadata": {
    "collapsed": false,
    "jupyter": {
     "outputs_hidden": false
    }
   },
   "outputs": [
    {
     "name": "stdout",
     "output_type": "stream",
     "text": [
      "(12163, 8) \n",
      " (12163, 1)\n",
      "(5214, 8) \n",
      " (5214, 1)\n"
     ]
    }
   ],
   "source": [
    "print(X_train.shape, \"\\n\", y_train.shape)\n",
    "print(X_test.shape, \"\\n\", y_test.shape)"
   ]
  },
  {
   "cell_type": "markdown",
   "metadata": {
    "collapsed": false
   },
   "source": [
    "#### Linear Regression Models: Implementation Steps ####\n",
    "\n",
    "**1) Modelling**\n",
    "\n",
    "    - importing model and error metrics\n",
    "    - instantiating the DecisionTreeRegressor class\n",
    "    - fitting the model\n",
    "    - measuring and printing the accuracy on train data set\n",
    "\n",
    "**2) Inspecting sample prediction values**\n",
    "\n",
    "    - creating test dataframe with all the predictors and assigning them X_test values\n",
    "    - adding target column with y_test values\n",
    "    - adding prediction column with test_prediction values\n",
    "    - printing only target column and prediction column\n",
    "\n",
    "**3) Calculating accuracy**\n",
    "\n",
    "    - creating custom mean_accuracy function to calculate test data mean accuracy based on either absolute percent error (APE) or root mean square error (RMSE)\n",
    "    - printing test data mean_accuracy\n",
    "    - creating custom scoring based on mean_accuracy function\n",
    "    - performing 10-fold cross validation using custom scoring and printing results\n",
    "\n",
    "**4) Plotting the feature importance for Top 10 most important columns**"
   ]
  },
  {
   "cell_type": "markdown",
   "metadata": {
    "collapsed": false
   },
   "source": [
    "#### Linear Regression Model ####"
   ]
  },
  {
   "cell_type": "code",
   "execution_count": 23,
   "metadata": {
    "collapsed": false,
    "jupyter": {
     "outputs_hidden": false
    }
   },
   "outputs": [
    {
     "name": "stdout",
     "output_type": "stream",
     "text": [
      "Train data set accuracy: 0.956816330876403\n"
     ]
    }
   ],
   "source": [
    "# importing model and error metrics\n",
    "from sklearn.linear_model import LinearRegression\n",
    "from sklearn.metrics import r2_score\n",
    "\n",
    "# instantiating the LinearRegression class\n",
    "lr = LinearRegression()\n",
    "\n",
    "# fitting the model\n",
    "lr_fit = lr.fit(X_train, y_train)\n",
    "train_prediction = lr_fit.predict(X_train)\n",
    "test_prediction = lr_fit.predict(X_test)\n",
    "\n",
    "# measuring and printing the accuracy on train data set\n",
    "train_r2 = r2_score(y_train, train_prediction)\n",
    "print(f\"Train data set accuracy: {train_r2}\")"
   ]
  },
  {
   "cell_type": "code",
   "execution_count": 24,
   "metadata": {
    "collapsed": false,
    "jupyter": {
     "outputs_hidden": false
    }
   },
   "outputs": [
    {
     "data": {
      "text/html": [
       "<div>\n",
       "<style scoped>\n",
       "    .dataframe tbody tr th:only-of-type {\n",
       "        vertical-align: middle;\n",
       "    }\n",
       "\n",
       "    .dataframe tbody tr th {\n",
       "        vertical-align: top;\n",
       "    }\n",
       "\n",
       "    .dataframe thead th {\n",
       "        text-align: right;\n",
       "    }\n",
       "</style>\n",
       "<table border=\"1\" class=\"dataframe\">\n",
       "  <thead>\n",
       "    <tr style=\"text-align: right;\">\n",
       "      <th></th>\n",
       "      <th>registered</th>\n",
       "      <th>season</th>\n",
       "      <th>mnth</th>\n",
       "      <th>hr</th>\n",
       "      <th>holiday</th>\n",
       "      <th>weekday</th>\n",
       "      <th>workingday</th>\n",
       "      <th>weathersit</th>\n",
       "    </tr>\n",
       "  </thead>\n",
       "  <tbody>\n",
       "    <tr>\n",
       "      <th>0</th>\n",
       "      <td>0.340858</td>\n",
       "      <td>0.666667</td>\n",
       "      <td>0.545455</td>\n",
       "      <td>0.391304</td>\n",
       "      <td>0.0</td>\n",
       "      <td>0.333333</td>\n",
       "      <td>1.0</td>\n",
       "      <td>0.000000</td>\n",
       "    </tr>\n",
       "    <tr>\n",
       "      <th>1</th>\n",
       "      <td>0.731377</td>\n",
       "      <td>0.333333</td>\n",
       "      <td>0.363636</td>\n",
       "      <td>0.739130</td>\n",
       "      <td>0.0</td>\n",
       "      <td>0.666667</td>\n",
       "      <td>1.0</td>\n",
       "      <td>0.000000</td>\n",
       "    </tr>\n",
       "    <tr>\n",
       "      <th>2</th>\n",
       "      <td>0.170429</td>\n",
       "      <td>0.000000</td>\n",
       "      <td>0.181818</td>\n",
       "      <td>1.000000</td>\n",
       "      <td>0.0</td>\n",
       "      <td>1.000000</td>\n",
       "      <td>0.0</td>\n",
       "      <td>0.000000</td>\n",
       "    </tr>\n",
       "    <tr>\n",
       "      <th>3</th>\n",
       "      <td>0.515801</td>\n",
       "      <td>0.333333</td>\n",
       "      <td>0.363636</td>\n",
       "      <td>0.826087</td>\n",
       "      <td>0.0</td>\n",
       "      <td>0.333333</td>\n",
       "      <td>1.0</td>\n",
       "      <td>0.000000</td>\n",
       "    </tr>\n",
       "    <tr>\n",
       "      <th>4</th>\n",
       "      <td>0.009029</td>\n",
       "      <td>0.000000</td>\n",
       "      <td>0.000000</td>\n",
       "      <td>0.000000</td>\n",
       "      <td>0.0</td>\n",
       "      <td>0.666667</td>\n",
       "      <td>1.0</td>\n",
       "      <td>0.000000</td>\n",
       "    </tr>\n",
       "    <tr>\n",
       "      <th>...</th>\n",
       "      <td>...</td>\n",
       "      <td>...</td>\n",
       "      <td>...</td>\n",
       "      <td>...</td>\n",
       "      <td>...</td>\n",
       "      <td>...</td>\n",
       "      <td>...</td>\n",
       "      <td>...</td>\n",
       "    </tr>\n",
       "    <tr>\n",
       "      <th>5209</th>\n",
       "      <td>0.121896</td>\n",
       "      <td>1.000000</td>\n",
       "      <td>1.000000</td>\n",
       "      <td>0.000000</td>\n",
       "      <td>0.0</td>\n",
       "      <td>0.000000</td>\n",
       "      <td>0.0</td>\n",
       "      <td>0.333333</td>\n",
       "    </tr>\n",
       "    <tr>\n",
       "      <th>5210</th>\n",
       "      <td>0.308126</td>\n",
       "      <td>1.000000</td>\n",
       "      <td>1.000000</td>\n",
       "      <td>0.521739</td>\n",
       "      <td>0.0</td>\n",
       "      <td>0.333333</td>\n",
       "      <td>1.0</td>\n",
       "      <td>0.000000</td>\n",
       "    </tr>\n",
       "    <tr>\n",
       "      <th>5211</th>\n",
       "      <td>0.371332</td>\n",
       "      <td>0.666667</td>\n",
       "      <td>0.454545</td>\n",
       "      <td>0.521739</td>\n",
       "      <td>0.0</td>\n",
       "      <td>0.000000</td>\n",
       "      <td>0.0</td>\n",
       "      <td>0.000000</td>\n",
       "    </tr>\n",
       "    <tr>\n",
       "      <th>5212</th>\n",
       "      <td>0.160271</td>\n",
       "      <td>0.000000</td>\n",
       "      <td>0.181818</td>\n",
       "      <td>0.652174</td>\n",
       "      <td>0.0</td>\n",
       "      <td>0.333333</td>\n",
       "      <td>1.0</td>\n",
       "      <td>0.000000</td>\n",
       "    </tr>\n",
       "    <tr>\n",
       "      <th>5213</th>\n",
       "      <td>0.274266</td>\n",
       "      <td>1.000000</td>\n",
       "      <td>0.909091</td>\n",
       "      <td>0.521739</td>\n",
       "      <td>0.0</td>\n",
       "      <td>0.833333</td>\n",
       "      <td>1.0</td>\n",
       "      <td>0.333333</td>\n",
       "    </tr>\n",
       "  </tbody>\n",
       "</table>\n",
       "<p>5214 rows × 8 columns</p>\n",
       "</div>"
      ],
      "text/plain": [
       "      registered    season      mnth        hr  holiday   weekday  workingday  \\\n",
       "0       0.340858  0.666667  0.545455  0.391304      0.0  0.333333         1.0   \n",
       "1       0.731377  0.333333  0.363636  0.739130      0.0  0.666667         1.0   \n",
       "2       0.170429  0.000000  0.181818  1.000000      0.0  1.000000         0.0   \n",
       "3       0.515801  0.333333  0.363636  0.826087      0.0  0.333333         1.0   \n",
       "4       0.009029  0.000000  0.000000  0.000000      0.0  0.666667         1.0   \n",
       "...          ...       ...       ...       ...      ...       ...         ...   \n",
       "5209    0.121896  1.000000  1.000000  0.000000      0.0  0.000000         0.0   \n",
       "5210    0.308126  1.000000  1.000000  0.521739      0.0  0.333333         1.0   \n",
       "5211    0.371332  0.666667  0.454545  0.521739      0.0  0.000000         0.0   \n",
       "5212    0.160271  0.000000  0.181818  0.652174      0.0  0.333333         1.0   \n",
       "5213    0.274266  1.000000  0.909091  0.521739      0.0  0.833333         1.0   \n",
       "\n",
       "      weathersit  \n",
       "0       0.000000  \n",
       "1       0.000000  \n",
       "2       0.000000  \n",
       "3       0.000000  \n",
       "4       0.000000  \n",
       "...          ...  \n",
       "5209    0.333333  \n",
       "5210    0.000000  \n",
       "5211    0.000000  \n",
       "5212    0.000000  \n",
       "5213    0.333333  \n",
       "\n",
       "[5214 rows x 8 columns]"
      ]
     },
     "execution_count": 24,
     "metadata": {
     },
     "output_type": "execute_result"
    }
   ],
   "source": [
    "# creating dataframe with all the predictors and assigning them X_test values\n",
    "data_res = pd.DataFrame(data=X_test, columns=predictors)\n",
    "data_res"
   ]
  },
  {
   "cell_type": "code",
   "execution_count": 25,
   "metadata": {
    "collapsed": false,
    "jupyter": {
     "outputs_hidden": false
    }
   },
   "outputs": [
    {
     "data": {
      "text/html": [
       "<div>\n",
       "<style scoped>\n",
       "    .dataframe tbody tr th:only-of-type {\n",
       "        vertical-align: middle;\n",
       "    }\n",
       "\n",
       "    .dataframe tbody tr th {\n",
       "        vertical-align: top;\n",
       "    }\n",
       "\n",
       "    .dataframe thead th {\n",
       "        text-align: right;\n",
       "    }\n",
       "</style>\n",
       "<table border=\"1\" class=\"dataframe\">\n",
       "  <thead>\n",
       "    <tr style=\"text-align: right;\">\n",
       "      <th></th>\n",
       "      <th>registered</th>\n",
       "      <th>season</th>\n",
       "      <th>mnth</th>\n",
       "      <th>hr</th>\n",
       "      <th>holiday</th>\n",
       "      <th>weekday</th>\n",
       "      <th>workingday</th>\n",
       "      <th>weathersit</th>\n",
       "      <th>cnt</th>\n",
       "    </tr>\n",
       "  </thead>\n",
       "  <tbody>\n",
       "    <tr>\n",
       "      <th>0</th>\n",
       "      <td>0.340858</td>\n",
       "      <td>0.666667</td>\n",
       "      <td>0.545455</td>\n",
       "      <td>0.391304</td>\n",
       "      <td>0.0</td>\n",
       "      <td>0.333333</td>\n",
       "      <td>1.0</td>\n",
       "      <td>0.000000</td>\n",
       "      <td>333</td>\n",
       "    </tr>\n",
       "    <tr>\n",
       "      <th>1</th>\n",
       "      <td>0.731377</td>\n",
       "      <td>0.333333</td>\n",
       "      <td>0.363636</td>\n",
       "      <td>0.739130</td>\n",
       "      <td>0.0</td>\n",
       "      <td>0.666667</td>\n",
       "      <td>1.0</td>\n",
       "      <td>0.000000</td>\n",
       "      <td>732</td>\n",
       "    </tr>\n",
       "    <tr>\n",
       "      <th>2</th>\n",
       "      <td>0.170429</td>\n",
       "      <td>0.000000</td>\n",
       "      <td>0.181818</td>\n",
       "      <td>1.000000</td>\n",
       "      <td>0.0</td>\n",
       "      <td>1.000000</td>\n",
       "      <td>0.0</td>\n",
       "      <td>0.000000</td>\n",
       "      <td>185</td>\n",
       "    </tr>\n",
       "    <tr>\n",
       "      <th>3</th>\n",
       "      <td>0.515801</td>\n",
       "      <td>0.333333</td>\n",
       "      <td>0.363636</td>\n",
       "      <td>0.826087</td>\n",
       "      <td>0.0</td>\n",
       "      <td>0.333333</td>\n",
       "      <td>1.0</td>\n",
       "      <td>0.000000</td>\n",
       "      <td>526</td>\n",
       "    </tr>\n",
       "    <tr>\n",
       "      <th>4</th>\n",
       "      <td>0.009029</td>\n",
       "      <td>0.000000</td>\n",
       "      <td>0.000000</td>\n",
       "      <td>0.000000</td>\n",
       "      <td>0.0</td>\n",
       "      <td>0.666667</td>\n",
       "      <td>1.0</td>\n",
       "      <td>0.000000</td>\n",
       "      <td>13</td>\n",
       "    </tr>\n",
       "    <tr>\n",
       "      <th>...</th>\n",
       "      <td>...</td>\n",
       "      <td>...</td>\n",
       "      <td>...</td>\n",
       "      <td>...</td>\n",
       "      <td>...</td>\n",
       "      <td>...</td>\n",
       "      <td>...</td>\n",
       "      <td>...</td>\n",
       "      <td>...</td>\n",
       "    </tr>\n",
       "    <tr>\n",
       "      <th>5209</th>\n",
       "      <td>0.121896</td>\n",
       "      <td>1.000000</td>\n",
       "      <td>1.000000</td>\n",
       "      <td>0.000000</td>\n",
       "      <td>0.0</td>\n",
       "      <td>0.000000</td>\n",
       "      <td>0.0</td>\n",
       "      <td>0.333333</td>\n",
       "      <td>117</td>\n",
       "    </tr>\n",
       "    <tr>\n",
       "      <th>5210</th>\n",
       "      <td>0.308126</td>\n",
       "      <td>1.000000</td>\n",
       "      <td>1.000000</td>\n",
       "      <td>0.521739</td>\n",
       "      <td>0.0</td>\n",
       "      <td>0.333333</td>\n",
       "      <td>1.0</td>\n",
       "      <td>0.000000</td>\n",
       "      <td>312</td>\n",
       "    </tr>\n",
       "    <tr>\n",
       "      <th>5211</th>\n",
       "      <td>0.371332</td>\n",
       "      <td>0.666667</td>\n",
       "      <td>0.454545</td>\n",
       "      <td>0.521739</td>\n",
       "      <td>0.0</td>\n",
       "      <td>0.000000</td>\n",
       "      <td>0.0</td>\n",
       "      <td>0.000000</td>\n",
       "      <td>556</td>\n",
       "    </tr>\n",
       "    <tr>\n",
       "      <th>5212</th>\n",
       "      <td>0.160271</td>\n",
       "      <td>0.000000</td>\n",
       "      <td>0.181818</td>\n",
       "      <td>0.652174</td>\n",
       "      <td>0.0</td>\n",
       "      <td>0.333333</td>\n",
       "      <td>1.0</td>\n",
       "      <td>0.000000</td>\n",
       "      <td>166</td>\n",
       "    </tr>\n",
       "    <tr>\n",
       "      <th>5213</th>\n",
       "      <td>0.274266</td>\n",
       "      <td>1.000000</td>\n",
       "      <td>0.909091</td>\n",
       "      <td>0.521739</td>\n",
       "      <td>0.0</td>\n",
       "      <td>0.833333</td>\n",
       "      <td>1.0</td>\n",
       "      <td>0.333333</td>\n",
       "      <td>268</td>\n",
       "    </tr>\n",
       "  </tbody>\n",
       "</table>\n",
       "<p>5214 rows × 9 columns</p>\n",
       "</div>"
      ],
      "text/plain": [
       "      registered    season      mnth        hr  holiday   weekday  workingday  \\\n",
       "0       0.340858  0.666667  0.545455  0.391304      0.0  0.333333         1.0   \n",
       "1       0.731377  0.333333  0.363636  0.739130      0.0  0.666667         1.0   \n",
       "2       0.170429  0.000000  0.181818  1.000000      0.0  1.000000         0.0   \n",
       "3       0.515801  0.333333  0.363636  0.826087      0.0  0.333333         1.0   \n",
       "4       0.009029  0.000000  0.000000  0.000000      0.0  0.666667         1.0   \n",
       "...          ...       ...       ...       ...      ...       ...         ...   \n",
       "5209    0.121896  1.000000  1.000000  0.000000      0.0  0.000000         0.0   \n",
       "5210    0.308126  1.000000  1.000000  0.521739      0.0  0.333333         1.0   \n",
       "5211    0.371332  0.666667  0.454545  0.521739      0.0  0.000000         0.0   \n",
       "5212    0.160271  0.000000  0.181818  0.652174      0.0  0.333333         1.0   \n",
       "5213    0.274266  1.000000  0.909091  0.521739      0.0  0.833333         1.0   \n",
       "\n",
       "      weathersit  cnt  \n",
       "0       0.000000  333  \n",
       "1       0.000000  732  \n",
       "2       0.000000  185  \n",
       "3       0.000000  526  \n",
       "4       0.000000   13  \n",
       "...          ...  ...  \n",
       "5209    0.333333  117  \n",
       "5210    0.000000  312  \n",
       "5211    0.000000  556  \n",
       "5212    0.000000  166  \n",
       "5213    0.333333  268  \n",
       "\n",
       "[5214 rows x 9 columns]"
      ]
     },
     "execution_count": 25,
     "metadata": {
     },
     "output_type": "execute_result"
    }
   ],
   "source": [
    "# adding target column with y_test values\n",
    "data_res[target] = y_test\n",
    "data_res"
   ]
  },
  {
   "cell_type": "code",
   "execution_count": 26,
   "metadata": {
    "collapsed": false,
    "jupyter": {
     "outputs_hidden": false
    }
   },
   "outputs": [
    {
     "data": {
      "text/html": [
       "<div>\n",
       "<style scoped>\n",
       "    .dataframe tbody tr th:only-of-type {\n",
       "        vertical-align: middle;\n",
       "    }\n",
       "\n",
       "    .dataframe tbody tr th {\n",
       "        vertical-align: top;\n",
       "    }\n",
       "\n",
       "    .dataframe thead th {\n",
       "        text-align: right;\n",
       "    }\n",
       "</style>\n",
       "<table border=\"1\" class=\"dataframe\">\n",
       "  <thead>\n",
       "    <tr style=\"text-align: right;\">\n",
       "      <th></th>\n",
       "      <th>registered</th>\n",
       "      <th>season</th>\n",
       "      <th>mnth</th>\n",
       "      <th>hr</th>\n",
       "      <th>holiday</th>\n",
       "      <th>weekday</th>\n",
       "      <th>workingday</th>\n",
       "      <th>weathersit</th>\n",
       "      <th>cnt</th>\n",
       "      <th>prediction</th>\n",
       "    </tr>\n",
       "  </thead>\n",
       "  <tbody>\n",
       "    <tr>\n",
       "      <th>0</th>\n",
       "      <td>0.340858</td>\n",
       "      <td>0.666667</td>\n",
       "      <td>0.545455</td>\n",
       "      <td>0.391304</td>\n",
       "      <td>0.0</td>\n",
       "      <td>0.333333</td>\n",
       "      <td>1.0</td>\n",
       "      <td>0.000000</td>\n",
       "      <td>333</td>\n",
       "      <td>350.0</td>\n",
       "    </tr>\n",
       "    <tr>\n",
       "      <th>1</th>\n",
       "      <td>0.731377</td>\n",
       "      <td>0.333333</td>\n",
       "      <td>0.363636</td>\n",
       "      <td>0.739130</td>\n",
       "      <td>0.0</td>\n",
       "      <td>0.666667</td>\n",
       "      <td>1.0</td>\n",
       "      <td>0.000000</td>\n",
       "      <td>732</td>\n",
       "      <td>758.0</td>\n",
       "    </tr>\n",
       "    <tr>\n",
       "      <th>2</th>\n",
       "      <td>0.170429</td>\n",
       "      <td>0.000000</td>\n",
       "      <td>0.181818</td>\n",
       "      <td>1.000000</td>\n",
       "      <td>0.0</td>\n",
       "      <td>1.000000</td>\n",
       "      <td>0.0</td>\n",
       "      <td>0.000000</td>\n",
       "      <td>185</td>\n",
       "      <td>227.0</td>\n",
       "    </tr>\n",
       "    <tr>\n",
       "      <th>3</th>\n",
       "      <td>0.515801</td>\n",
       "      <td>0.333333</td>\n",
       "      <td>0.363636</td>\n",
       "      <td>0.826087</td>\n",
       "      <td>0.0</td>\n",
       "      <td>0.333333</td>\n",
       "      <td>1.0</td>\n",
       "      <td>0.000000</td>\n",
       "      <td>526</td>\n",
       "      <td>536.0</td>\n",
       "    </tr>\n",
       "    <tr>\n",
       "      <th>4</th>\n",
       "      <td>0.009029</td>\n",
       "      <td>0.000000</td>\n",
       "      <td>0.000000</td>\n",
       "      <td>0.000000</td>\n",
       "      <td>0.0</td>\n",
       "      <td>0.666667</td>\n",
       "      <td>1.0</td>\n",
       "      <td>0.000000</td>\n",
       "      <td>13</td>\n",
       "      <td>1.0</td>\n",
       "    </tr>\n",
       "    <tr>\n",
       "      <th>...</th>\n",
       "      <td>...</td>\n",
       "      <td>...</td>\n",
       "      <td>...</td>\n",
       "      <td>...</td>\n",
       "      <td>...</td>\n",
       "      <td>...</td>\n",
       "      <td>...</td>\n",
       "      <td>...</td>\n",
       "      <td>...</td>\n",
       "      <td>...</td>\n",
       "    </tr>\n",
       "    <tr>\n",
       "      <th>5209</th>\n",
       "      <td>0.121896</td>\n",
       "      <td>1.000000</td>\n",
       "      <td>1.000000</td>\n",
       "      <td>0.000000</td>\n",
       "      <td>0.0</td>\n",
       "      <td>0.000000</td>\n",
       "      <td>0.0</td>\n",
       "      <td>0.333333</td>\n",
       "      <td>117</td>\n",
       "      <td>150.0</td>\n",
       "    </tr>\n",
       "    <tr>\n",
       "      <th>5210</th>\n",
       "      <td>0.308126</td>\n",
       "      <td>1.000000</td>\n",
       "      <td>1.000000</td>\n",
       "      <td>0.521739</td>\n",
       "      <td>0.0</td>\n",
       "      <td>0.333333</td>\n",
       "      <td>1.0</td>\n",
       "      <td>0.000000</td>\n",
       "      <td>312</td>\n",
       "      <td>318.0</td>\n",
       "    </tr>\n",
       "    <tr>\n",
       "      <th>5211</th>\n",
       "      <td>0.371332</td>\n",
       "      <td>0.666667</td>\n",
       "      <td>0.454545</td>\n",
       "      <td>0.521739</td>\n",
       "      <td>0.0</td>\n",
       "      <td>0.000000</td>\n",
       "      <td>0.0</td>\n",
       "      <td>0.000000</td>\n",
       "      <td>556</td>\n",
       "      <td>424.0</td>\n",
       "    </tr>\n",
       "    <tr>\n",
       "      <th>5212</th>\n",
       "      <td>0.160271</td>\n",
       "      <td>0.000000</td>\n",
       "      <td>0.181818</td>\n",
       "      <td>0.652174</td>\n",
       "      <td>0.0</td>\n",
       "      <td>0.333333</td>\n",
       "      <td>1.0</td>\n",
       "      <td>0.000000</td>\n",
       "      <td>166</td>\n",
       "      <td>165.0</td>\n",
       "    </tr>\n",
       "    <tr>\n",
       "      <th>5213</th>\n",
       "      <td>0.274266</td>\n",
       "      <td>1.000000</td>\n",
       "      <td>0.909091</td>\n",
       "      <td>0.521739</td>\n",
       "      <td>0.0</td>\n",
       "      <td>0.833333</td>\n",
       "      <td>1.0</td>\n",
       "      <td>0.333333</td>\n",
       "      <td>268</td>\n",
       "      <td>281.0</td>\n",
       "    </tr>\n",
       "  </tbody>\n",
       "</table>\n",
       "<p>5214 rows × 10 columns</p>\n",
       "</div>"
      ],
      "text/plain": [
       "      registered    season      mnth        hr  holiday   weekday  workingday  \\\n",
       "0       0.340858  0.666667  0.545455  0.391304      0.0  0.333333         1.0   \n",
       "1       0.731377  0.333333  0.363636  0.739130      0.0  0.666667         1.0   \n",
       "2       0.170429  0.000000  0.181818  1.000000      0.0  1.000000         0.0   \n",
       "3       0.515801  0.333333  0.363636  0.826087      0.0  0.333333         1.0   \n",
       "4       0.009029  0.000000  0.000000  0.000000      0.0  0.666667         1.0   \n",
       "...          ...       ...       ...       ...      ...       ...         ...   \n",
       "5209    0.121896  1.000000  1.000000  0.000000      0.0  0.000000         0.0   \n",
       "5210    0.308126  1.000000  1.000000  0.521739      0.0  0.333333         1.0   \n",
       "5211    0.371332  0.666667  0.454545  0.521739      0.0  0.000000         0.0   \n",
       "5212    0.160271  0.000000  0.181818  0.652174      0.0  0.333333         1.0   \n",
       "5213    0.274266  1.000000  0.909091  0.521739      0.0  0.833333         1.0   \n",
       "\n",
       "      weathersit  cnt  prediction  \n",
       "0       0.000000  333       350.0  \n",
       "1       0.000000  732       758.0  \n",
       "2       0.000000  185       227.0  \n",
       "3       0.000000  526       536.0  \n",
       "4       0.000000   13         1.0  \n",
       "...          ...  ...         ...  \n",
       "5209    0.333333  117       150.0  \n",
       "5210    0.000000  312       318.0  \n",
       "5211    0.000000  556       424.0  \n",
       "5212    0.000000  166       165.0  \n",
       "5213    0.333333  268       281.0  \n",
       "\n",
       "[5214 rows x 10 columns]"
      ]
     },
     "execution_count": 26,
     "metadata": {
     },
     "output_type": "execute_result"
    }
   ],
   "source": [
    "# adding prediction column with test_prediction values\n",
    "data_res['prediction'] = np.round(test_prediction)\n",
    "data_res"
   ]
  },
  {
   "cell_type": "code",
   "execution_count": 27,
   "metadata": {
    "collapsed": false,
    "jupyter": {
     "outputs_hidden": false
    }
   },
   "outputs": [
    {
     "name": "stdout",
     "output_type": "stream",
     "text": [
      "   cnt  prediction\n",
      "0  333       350.0\n",
      "1  732       758.0\n",
      "2  185       227.0\n",
      "3  526       536.0\n",
      "4   13         1.0\n"
     ]
    }
   ],
   "source": [
    "# printing only target column and prediction column\n",
    "print(data_res[['cnt', 'prediction']].head())"
   ]
  },
  {
   "cell_type": "code",
   "execution_count": 28,
   "metadata": {
    "collapsed": false,
    "jupyter": {
     "outputs_hidden": false
    }
   },
   "outputs": [
   ],
   "source": [
    "# custom function to calculate mean accuracy based on absolute percent error\n",
    "def mean_accuracy(y, y_pred):\n",
    "    APE = 100 * (abs((y - y_pred) / y))\n",
    "    return 100 - np.mean(APE)\n",
    "\n",
    "# custom function to calculate median accuracy based on absolute percent error\n",
    "def median_accuracy(y, y_pred):\n",
    "    APE = 100 * (abs((y - y_pred) / y))\n",
    "    return 100 - np.median(APE)"
   ]
  },
  {
   "cell_type": "code",
   "execution_count": 29,
   "metadata": {
    "collapsed": false,
    "jupyter": {
     "outputs_hidden": false
    }
   },
   "outputs": [
    {
     "name": "stdout",
     "output_type": "stream",
     "text": [
      "Test data mean accuracy: 28.75463148673755\n",
      "Test data median accuracy: 85.97389248638092\n"
     ]
    }
   ],
   "source": [
    "print(f\"Test data mean accuracy: {mean_accuracy(data_res['cnt'], data_res['prediction'])}\")\n",
    "print(f\"Test data median accuracy: {median_accuracy(data_res['cnt'], data_res['prediction'])}\")"
   ]
  },
  {
   "cell_type": "code",
   "execution_count": 30,
   "metadata": {
    "collapsed": false,
    "jupyter": {
     "outputs_hidden": false
    }
   },
   "outputs": [
   ],
   "source": [
    "# custom scoring based on mean_accuracy function\n",
    "from sklearn.metrics import make_scorer\n",
    "custom_scoring = make_scorer(mean_accuracy, greater_is_better=True)"
   ]
  },
  {
   "cell_type": "code",
   "execution_count": 31,
   "metadata": {
    "collapsed": false,
    "jupyter": {
     "outputs_hidden": false
    }
   },
   "outputs": [
    {
     "name": "stdout",
     "output_type": "stream",
     "text": [
      "10-fold cross validation accuracy values:\n",
      "[-74.07929873  26.65796421  59.00921878  49.87501303  14.90766055\n",
      "  13.94538914  48.55944791  69.51846121  69.73312601  39.90684357]\n",
      "\n",
      "AVG. ACC. SCORE OF THE MODEL (using MAPE): 31.8\n"
     ]
    }
   ],
   "source": [
    "# performing 10-fold cross validation using custom scoring and printing results\n",
    "from sklearn.model_selection import cross_val_score\n",
    "accuracy_vals = cross_val_score(lr, X, y, cv=10, scoring=custom_scoring)\n",
    "print(f\"10-fold cross validation accuracy values:\\n{accuracy_vals}\")\n",
    "print(f\"\\nAVG. ACC. SCORE OF THE MODEL (using MAPE): {round(np.mean(accuracy_vals), 2)}\")"
   ]
  },
  {
   "cell_type": "code",
   "execution_count": 32,
   "metadata": {
    "collapsed": false,
    "jupyter": {
     "outputs_hidden": false
    }
   },
   "outputs": [
    {
     "name": "stdout",
     "output_type": "stream",
     "text": [
      "Test data RMSE accuracy: 63.63171059689265\n",
      "AVG. ACC. SCORE OF THE MODEL (using RMSE): 61.93549808894731\n"
     ]
    }
   ],
   "source": [
    "# using RMSE metrics instead of MAPE\n",
    "def rmse_accuracy(y, y_pred):\n",
    "    from sklearn.metrics import mean_squared_error\n",
    "    mse = mean_squared_error(y, y_pred)\n",
    "    return (100 - np.sqrt(mse))\n",
    "\n",
    "print(f\"Test data RMSE accuracy: {rmse_accuracy(data_res['cnt'], data_res['prediction'])}\")\n",
    "\n",
    "rmse_scoring = make_scorer(rmse_accuracy, greater_is_better=True)\n",
    "rmse_accuracy_vals = cross_val_score(lr, X, y, cv=10, scoring=rmse_scoring)\n",
    "print(f\"AVG. ACC. SCORE OF THE MODEL (using RMSE): {np.mean(rmse_accuracy_vals)}\")"
   ]
  },
  {
   "cell_type": "markdown",
   "metadata": {
    "collapsed": false
   },
   "source": [
    "#### KNN (K-Nearest Neighbor) ####"
   ]
  },
  {
   "cell_type": "code",
   "execution_count": 33,
   "metadata": {
    "collapsed": false,
    "jupyter": {
     "outputs_hidden": false
    }
   },
   "outputs": [
    {
     "name": "stdout",
     "output_type": "stream",
     "text": [
      "Train data R2 value: 0.9894019921648664\n",
      "\n",
      "   cnt  prediction\n",
      "0  333       335.0\n",
      "1  732       751.0\n",
      "2  185       172.5\n",
      "3  526       499.5\n",
      "4   13         9.0\n",
      "\n",
      "Test data RMSE accuracy: 68.02619323351104\n",
      "\n",
      "10-fold cross validation accuracy values:\n",
      "[58.20862372 35.40522881 56.12061627 56.89534573 56.1498393  36.58333554\n",
      " 36.57371217 53.29348481 45.73869434 51.00905791]\n",
      "\n",
      "FINAL AVG. ACC. SCORE OF THE MODEL: 48.6\n"
     ]
    }
   ],
   "source": [
    "from sklearn.neighbors import KNeighborsRegressor\n",
    "model = KNeighborsRegressor(n_neighbors=2)\n",
    "\n",
    "model_fit = model.fit(X_train, y_train)\n",
    "train_prediction = model_fit.predict(X_train)\n",
    "test_prediction = model_fit.predict(X_test)\n",
    "\n",
    "train_r2 = r2_score(y_train, train_prediction)\n",
    "print(f\"Train data R2 value: {train_r2}\")\n",
    "\n",
    "data_sample = pd.DataFrame(data=X_test, columns=predictors)\n",
    "data_sample[target] = y_test\n",
    "data_sample['prediction'] = test_prediction\n",
    "print(f\"\\n{data_sample[['cnt', 'prediction']].head()}\")\n",
    "\n",
    "def rmse_accuracy(y, y_pred):\n",
    "    from sklearn.metrics import mean_squared_error\n",
    "    mse = mean_squared_error(y, y_pred)\n",
    "    return (100 - (np.sqrt(mse)))\n",
    "print(f\"\\nTest data RMSE accuracy: {rmse_accuracy(data_sample['cnt'], data_sample['prediction'])}\")\n",
    "\n",
    "from sklearn.metrics import make_scorer\n",
    "custom_scoring = make_scorer(rmse_accuracy, greater_is_better=True)\n",
    "\n",
    "from sklearn.model_selection import cross_val_score\n",
    "accuracy_vals = cross_val_score(model, X, y, cv=10, scoring=custom_scoring)\n",
    "print(f\"\\n10-fold cross validation accuracy values:\\n{accuracy_vals}\")\n",
    "print(f\"\\nFINAL AVG. ACC. SCORE OF THE MODEL: {round(np.mean(accuracy_vals), 2)}\")"
   ]
  },
  {
   "cell_type": "markdown",
   "metadata": {
    "collapsed": false
   },
   "source": [
    "#### Decision Tree ####"
   ]
  },
  {
   "cell_type": "code",
   "execution_count": 34,
   "metadata": {
    "collapsed": false,
    "jupyter": {
     "outputs_hidden": false
    }
   },
   "outputs": [
   ],
   "source": [
    "# function reg_alg()\n",
    "def reg_alg():\n",
    "    model_fit = model.fit(X_train, y_train)\n",
    "    train_prediction = model_fit.predict(X_train)\n",
    "    test_prediction = model_fit.predict(X_test)\n",
    "\n",
    "    train_r2 = r2_score(y_train, train_prediction)\n",
    "    print(f\"Train data R2 value: {train_r2}\")\n",
    "\n",
    "    data_sample = pd.DataFrame(data=X_test, columns=predictors)\n",
    "    data_sample[target] = y_test\n",
    "    data_sample['prediction'] = test_prediction\n",
    "    print(f\"\\n{data_sample[['cnt', 'prediction']].head()}\")\n",
    "\n",
    "    def rmse_accuracy(y, y_pred):\n",
    "        from sklearn.metrics import mean_squared_error\n",
    "        mse = mean_squared_error(y, y_pred)\n",
    "        return (100 - (np.sqrt(mse)))\n",
    "    print(f\"\\nTest data RMSE accuracy: {rmse_accuracy(data_sample['cnt'], data_sample['prediction'])}\")\n",
    "\n",
    "    from sklearn.metrics import make_scorer\n",
    "    custom_scoring = make_scorer(rmse_accuracy, greater_is_better=True)\n",
    "\n",
    "    from sklearn.model_selection import cross_val_score\n",
    "    accuracy_vals = cross_val_score(model, X, y, cv=10, scoring=custom_scoring)\n",
    "    print(f\"\\n10-fold cross validation accuracy values:\\n{accuracy_vals}\")\n",
    "    print(f\"\\nFINAL AVG. ACC. SCORE OF THE MODEL: {round(np.mean(accuracy_vals), 2)}\")\n",
    "    \n",
    "    plt.figure(figsize=(8,6))\n",
    "    feature_importances = pd.Series(model.feature_importances_, index=predictors)\n",
    "    feature_importances.nlargest(10).plot(kind='barh')\n",
    "    plt.show()\n",
    "    \n",
    "    return"
   ]
  },
  {
   "cell_type": "code",
   "execution_count": 35,
   "metadata": {
    "collapsed": false,
    "jupyter": {
     "outputs_hidden": false
    }
   },
   "outputs": [
    {
     "name": "stdout",
     "output_type": "stream",
     "text": [
      "Train data R2 value: 0.9860203506963103\n",
      "\n",
      "   cnt  prediction\n",
      "0  333  322.101449\n",
      "1  732  731.263158\n",
      "2  185  240.027211\n",
      "3  526  506.387097\n",
      "4   13    9.666667\n",
      "\n",
      "Test data RMSE accuracy: 76.42324628186502\n",
      "\n",
      "10-fold cross validation accuracy values:\n",
      "[87.29210493 76.27855145 76.61237806 73.91485422 75.19314011 65.33810634\n",
      " 65.34226158 71.35310337 63.7549826  65.16157992]\n",
      "\n",
      "FINAL AVG. ACC. SCORE OF THE MODEL: 72.02\n"
     ]
    },
    {
     "data": {
      "image/png": "[encoded data removed]",
      "text/plain": "<Figure size 576x432 with 1 Axes>"
     },
     "metadata": {
      "needs_background": "light"
     },
     "output_type": "display_data"
    }
   ],
   "source": [
    "# implementing the reg_alg function\n",
    "from sklearn.tree import DecisionTreeRegressor\n",
    "model = DecisionTreeRegressor(max_depth=8)\n",
    "\n",
    "reg_alg()"
   ]
  },
  {
   "cell_type": "markdown",
   "metadata": {
    "collapsed": false
   },
   "source": [
    "#### Random Forest ####"
   ]
  },
  {
   "cell_type": "code",
   "execution_count": 36,
   "metadata": {
    "collapsed": false,
    "jupyter": {
     "outputs_hidden": false
    }
   },
   "outputs": [
    {
     "name": "stdout",
     "output_type": "stream",
     "text": [
      "Train data R2 value: 0.9929800739345438\n",
      "\n",
      "   cnt  prediction\n",
      "0  333  340.400849\n",
      "1  732  735.826123\n",
      "2  185  216.082629\n",
      "3  526  516.737605\n",
      "4   13    9.828950\n",
      "\n",
      "Test data RMSE accuracy: 81.44012013434727\n",
      "\n",
      "10-fold cross validation accuracy values:\n",
      "[89.3694265  79.54167742 80.33057965 78.23121285 80.93869256 65.31878624\n",
      " 70.31187421 77.00207189 73.89033893 71.15508716]\n",
      "\n",
      "FINAL AVG. ACC. SCORE OF THE MODEL: 76.61\n"
     ]
    },
    {
     "data": {
      "image/png": "[encoded data removed]",
      "text/plain": "<Figure size 576x432 with 1 Axes>"
     },
     "metadata": {
      "needs_background": "light"
     },
     "output_type": "display_data"
    }
   ],
   "source": [
    "# RandomForest\n",
    "from sklearn.ensemble import RandomForestRegressor\n",
    "model = RandomForestRegressor(max_depth=10, n_estimators=100)\n",
    "\n",
    "reg_alg()"
   ]
  },
  {
   "cell_type": "markdown",
   "metadata": {
    "collapsed": false
   },
   "source": [
    "#### AdaBoost Regressor (Adaptive Boosting) ####"
   ]
  },
  {
   "cell_type": "code",
   "execution_count": 37,
   "metadata": {
    "collapsed": false,
    "jupyter": {
     "outputs_hidden": false
    }
   },
   "outputs": [
    {
     "name": "stdout",
     "output_type": "stream",
     "text": [
      "Train data R2 value: 0.9947301155027667\n",
      "\n",
      "   cnt  prediction\n",
      "0  333  340.846154\n",
      "1  732  739.409091\n",
      "2  185  215.916667\n",
      "3  526  510.551020\n",
      "4   13    9.400000\n",
      "\n",
      "Test data RMSE accuracy: 81.72009931748028\n",
      "\n",
      "10-fold cross validation accuracy values:\n",
      "[89.39146539 79.56912558 80.30819884 78.09139117 80.42098008 62.9240438\n",
      " 70.70556298 77.19167499 73.86604785 70.07128533]\n",
      "\n",
      "FINAL AVG. ACC. SCORE OF THE MODEL: 76.25\n"
     ]
    },
    {
     "data": {
      "image/png": "[encoded data removed]",
      "text/plain": "<Figure size 576x432 with 1 Axes>"
     },
     "metadata": {
      "needs_background": "light"
     },
     "output_type": "display_data"
    }
   ],
   "source": [
    "from sklearn.ensemble import AdaBoostRegressor\n",
    "from sklearn.tree import DecisionTreeRegressor\n",
    "\n",
    "dtr = DecisionTreeRegressor(max_depth=10)\n",
    "model = AdaBoostRegressor(n_estimators=100, base_estimator=dtr, learning_rate=0.04)\n",
    "\n",
    "reg_alg()"
   ]
  },
  {
   "cell_type": "markdown",
   "metadata": {
    "collapsed": false
   },
   "source": [
    "#### XGBoost (Extreme Gradient Boosting) ####"
   ]
  },
  {
   "cell_type": "code",
   "execution_count": 38,
   "metadata": {
    "collapsed": false,
    "jupyter": {
     "outputs_hidden": false
    }
   },
   "outputs": [
    {
     "name": "stdout",
     "output_type": "stream",
     "text": [
      "Train data R2 value: 0.998326878422417\n",
      "\n",
      "   cnt  prediction\n",
      "0  333  341.141541\n",
      "1  732  736.236633\n",
      "2  185  202.387817\n",
      "3  526  510.625946\n",
      "4   13    8.931381\n",
      "\n",
      "Test data RMSE accuracy: 83.1478898230626\n",
      "\n",
      "10-fold cross validation accuracy values:\n",
      "[90.14059925 79.74835923 79.76832317 79.82902039 82.83284549 66.35488988\n",
      " 71.22734829 76.82540507 77.32845244 74.09739451]\n",
      "\n",
      "FINAL AVG. ACC. SCORE OF THE MODEL: 77.82\n"
     ]
    },
    {
     "data": {
      "image/png": "[encoded data removed]",
      "text/plain": "<Figure size 576x432 with 1 Axes>"
     },
     "metadata": {
      "needs_background": "light"
     },
     "output_type": "display_data"
    }
   ],
   "source": [
    "from xgboost import XGBRegressor\n",
    "model = XGBRegressor(max_depth=10, learning_rate=0.1, n_estimators=100, objective='reg:squarederror', booster='gbtree')\n",
    "\n",
    "reg_alg()"
   ]
  },
  {
   "cell_type": "markdown",
   "metadata": {
    "collapsed": false
   },
   "source": [
    "#### Selecting the Best Model\n",
    "\n",
    "According to the result above, the best model to choose is XGBoost with average accuracy of 77.82. This will be the algorithm of choice for predictive modelling the task in hand.\n",
    "\n",
    "Before deployment, we shall first choose only the most important predictors. Reducing the number of predictors helps make the model more stable. Based on feature importance graphs, we can choose **'registered'**, **'workingday'**, **'hr'** and **'mnth'** as our final predictors.\n"
   ]
  },
  {
   "cell_type": "code",
   "execution_count": 39,
   "metadata": {
    "collapsed": false,
    "jupyter": {
     "outputs_hidden": false
    }
   },
   "outputs": [
    {
     "name": "stdout",
     "output_type": "stream",
     "text": [
      "(17377, 4)\n",
      "(17377, 1)\n"
     ]
    }
   ],
   "source": [
    "# reducing the number of predictors\n",
    "target = ['cnt']\n",
    "predictors = ['registered', 'workingday', 'hr', 'mnth']\n",
    "\n",
    "# train/test datasets\n",
    "X = bike_rentals[predictors].values\n",
    "y = bike_rentals[target].values\n",
    "\n",
    "# standardization of X\n",
    "from sklearn.preprocessing import MinMaxScaler\n",
    "mm_scaler = MinMaxScaler()\n",
    "X = mm_scaler.fit(X).transform(X)\n",
    "\n",
    "print(X.shape)\n",
    "print(y.shape)"
   ]
  },
  {
   "cell_type": "code",
   "execution_count": 40,
   "metadata": {
    "collapsed": false,
    "jupyter": {
     "outputs_hidden": false
    }
   },
   "outputs": [
    {
     "name": "stdout",
     "output_type": "stream",
     "text": [
      "10-fold cross validation accuracy values: [90.11169774 78.43944604 79.74942087 77.66210464 81.62283657 71.08149569\n",
      " 69.29107291 76.1605123  73.76161988 74.21082902]\n",
      "\n",
      "FINAL AVG. ACC. SCORE: 77.21\n"
     ]
    }
   ],
   "source": [
    "# accuracy measurement with cross validation\n",
    "from sklearn.model_selection import cross_val_score\n",
    "model = XGBRegressor(max_depth=10,\n",
    "                     learning_rate=0.1,\n",
    "                     n_estimators=100,\n",
    "                     objective='reg:squarederror',\n",
    "                     booster='gbtree')\n",
    "\n",
    "# 10-fold cross validation\n",
    "accuracy_vals = cross_val_score(model, X, y, cv=10, scoring=custom_scoring)\n",
    "print(f\"10-fold cross validation accuracy values: {accuracy_vals}\")\n",
    "print(f\"\\nFINAL AVG. ACC. SCORE: {round(np.mean(accuracy_vals),2)}\")"
   ]
  },
  {
   "cell_type": "markdown",
   "metadata": {
    "collapsed": false,
    "tags": [
    ]
   },
   "source": [
    "#### Saving the Model\n",
    "\n"
   ]
  },
  {
   "cell_type": "code",
   "execution_count": 41,
   "metadata": {
    "collapsed": false,
    "jupyter": {
     "outputs_hidden": false
    }
   },
   "outputs": [
    {
     "name": "stdout",
     "output_type": "stream",
     "text": [
      "Model file saved at C:\\Users\\OK Computer\\jupyter_notebooks\\PROJECTS\\5_MACHINE_LEARNING_INTRODUCTION (3)\\03 - Predicting Bike Rentals (Decision Trees)\\TN\n"
     ]
    }
   ],
   "source": [
    "# retraining the model\n",
    "final_model = model.fit(X,y)\n",
    "\n",
    "# saving the model\n",
    "import pickle\n",
    "import os\n",
    "\n",
    "with open('final_model.pkl', 'wb') as file_write_stream:\n",
    "    pickle.dump(final_model, file_write_stream)\n",
    "    file_write_stream.close()\n",
    "    \n",
    "print(\"Model file saved at\", os.getcwd())"
   ]
  }
 ],
 "metadata": {
  "kernelspec": {
   "display_name": "Python 3 (system-wide)",
   "language": "python",
   "metadata": {
    "cocalc": {
     "description": "Python 3 programming language",
     "priority": 100,
     "url": "https://www.python.org/"
    }
   },
   "name": "python3",
   "resource_dir": "/ext/jupyter/kernels/python3"
  },
  "language_info": {
   "codemirror_mode": {
    "name": "ipython",
    "version": 3
   },
   "file_extension": ".py",
   "mimetype": "text/x-python",
   "name": "python",
   "nbconvert_exporter": "python",
   "pygments_lexer": "ipython3",
   "version": "3.8.12"
  }
 },
 "nbformat": 4,
 "nbformat_minor": 4
}